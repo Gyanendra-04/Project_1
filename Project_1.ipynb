{
  "nbformat": 4,
  "nbformat_minor": 0,
  "metadata": {
    "colab": {
      "name": "Project_1.ipynb",
      "provenance": [],
      "toc_visible": true
    },
    "kernelspec": {
      "name": "python3",
      "display_name": "Python 3"
    },
    "accelerator": "GPU"
  },
  "cells": [
    {
      "cell_type": "code",
      "metadata": {
        "id": "rxkTHzgjf4bG"
      },
      "source": [
        "from tensorflow.keras.preprocessing.text import Tokenizer\n",
        "from tensorflow.keras.preprocessing.sequence import pad_sequences\n",
        "from tensorflow.keras.models import Sequential\n",
        "from tensorflow.keras.layers import Dense,Flatten,Embedding,Activation, Dropout, Input, LSTM\n",
        "from tensorflow.keras.layers import Conv1D, MaxPooling1D, GlobalMaxPooling1D \n",
        "from tensorflow.keras.optimizers import Adam\n",
        "from tensorflow.keras.models import Model\n",
        "\n",
        "import numpy as np\n",
        "from numpy import array\n",
        "import pandas as pd\n",
        "\n",
        "from sklearn.model_selection import train_test_split\n",
        "import warnings\n",
        "warnings.filterwarnings(\"ignore\")"
      ],
      "execution_count": 1,
      "outputs": []
    },
    {
      "cell_type": "markdown",
      "metadata": {
        "id": "M--Klr0PN2zp"
      },
      "source": [
        "We will do the import through google drive here due to big csv file"
      ]
    },
    {
      "cell_type": "code",
      "metadata": {
        "id": "iH0dQd0eGbse",
        "colab": {
          "base_uri": "https://localhost:8080/"
        },
        "outputId": "32a5e575-2b7a-4625-d2ec-7485038c384f"
      },
      "source": [
        "from google.colab import drive\r\n",
        "drive.mount('/content/drive/')"
      ],
      "execution_count": 2,
      "outputs": [
        {
          "output_type": "stream",
          "text": [
            "Drive already mounted at /content/drive/; to attempt to forcibly remount, call drive.mount(\"/content/drive/\", force_remount=True).\n"
          ],
          "name": "stdout"
        }
      ]
    },
    {
      "cell_type": "code",
      "metadata": {
        "id": "B_ySYU35GbN9"
      },
      "source": [
        "path = \"/content/drive/MyDrive/Questions.csv\"\r\n",
        "df_questions = pd.read_csv(path,encoding='ISO-8859-1')"
      ],
      "execution_count": 3,
      "outputs": []
    },
    {
      "cell_type": "code",
      "metadata": {
        "id": "BAF4uzkO1-nt"
      },
      "source": [
        "path2 = \"/content/drive/MyDrive/Tags.csv\"\r\n",
        "df_tags = pd.read_csv(path2,encoding='ISO-8859-1')"
      ],
      "execution_count": 4,
      "outputs": []
    },
    {
      "cell_type": "code",
      "metadata": {
        "colab": {
          "base_uri": "https://localhost:8080/"
        },
        "id": "xG6RrTfslVHu",
        "outputId": "7d5ebc1d-015b-471f-900b-7e5927aee460"
      },
      "source": [
        "df_questions.shape, df_tags.shape"
      ],
      "execution_count": 5,
      "outputs": [
        {
          "output_type": "execute_result",
          "data": {
            "text/plain": [
              "((1264216, 7), (3750994, 2))"
            ]
          },
          "metadata": {
            "tags": []
          },
          "execution_count": 5
        }
      ]
    },
    {
      "cell_type": "code",
      "metadata": {
        "colab": {
          "base_uri": "https://localhost:8080/",
          "height": 289
        },
        "id": "T3juZ3LC6Vh2",
        "outputId": "ef43ce89-162c-46a4-e55e-25148edb17c0"
      },
      "source": [
        "df_questions.head()"
      ],
      "execution_count": 6,
      "outputs": [
        {
          "output_type": "execute_result",
          "data": {
            "text/html": [
              "<div>\n",
              "<style scoped>\n",
              "    .dataframe tbody tr th:only-of-type {\n",
              "        vertical-align: middle;\n",
              "    }\n",
              "\n",
              "    .dataframe tbody tr th {\n",
              "        vertical-align: top;\n",
              "    }\n",
              "\n",
              "    .dataframe thead th {\n",
              "        text-align: right;\n",
              "    }\n",
              "</style>\n",
              "<table border=\"1\" class=\"dataframe\">\n",
              "  <thead>\n",
              "    <tr style=\"text-align: right;\">\n",
              "      <th></th>\n",
              "      <th>Id</th>\n",
              "      <th>OwnerUserId</th>\n",
              "      <th>CreationDate</th>\n",
              "      <th>ClosedDate</th>\n",
              "      <th>Score</th>\n",
              "      <th>Title</th>\n",
              "      <th>Body</th>\n",
              "    </tr>\n",
              "  </thead>\n",
              "  <tbody>\n",
              "    <tr>\n",
              "      <th>0</th>\n",
              "      <td>80</td>\n",
              "      <td>26.0</td>\n",
              "      <td>2008-08-01T13:57:07Z</td>\n",
              "      <td>NaN</td>\n",
              "      <td>26</td>\n",
              "      <td>SQLStatement.execute() - multiple queries in o...</td>\n",
              "      <td>&lt;p&gt;I've written a database generation script i...</td>\n",
              "    </tr>\n",
              "    <tr>\n",
              "      <th>1</th>\n",
              "      <td>90</td>\n",
              "      <td>58.0</td>\n",
              "      <td>2008-08-01T14:41:24Z</td>\n",
              "      <td>2012-12-26T03:45:49Z</td>\n",
              "      <td>144</td>\n",
              "      <td>Good branching and merging tutorials for Torto...</td>\n",
              "      <td>&lt;p&gt;Are there any really good tutorials explain...</td>\n",
              "    </tr>\n",
              "    <tr>\n",
              "      <th>2</th>\n",
              "      <td>120</td>\n",
              "      <td>83.0</td>\n",
              "      <td>2008-08-01T15:50:08Z</td>\n",
              "      <td>NaN</td>\n",
              "      <td>21</td>\n",
              "      <td>ASP.NET Site Maps</td>\n",
              "      <td>&lt;p&gt;Has anyone got experience creating &lt;strong&gt;...</td>\n",
              "    </tr>\n",
              "    <tr>\n",
              "      <th>3</th>\n",
              "      <td>180</td>\n",
              "      <td>2089740.0</td>\n",
              "      <td>2008-08-01T18:42:19Z</td>\n",
              "      <td>NaN</td>\n",
              "      <td>53</td>\n",
              "      <td>Function for creating color wheels</td>\n",
              "      <td>&lt;p&gt;This is something I've pseudo-solved many t...</td>\n",
              "    </tr>\n",
              "    <tr>\n",
              "      <th>4</th>\n",
              "      <td>260</td>\n",
              "      <td>91.0</td>\n",
              "      <td>2008-08-01T23:22:08Z</td>\n",
              "      <td>NaN</td>\n",
              "      <td>49</td>\n",
              "      <td>Adding scripting functionality to .NET applica...</td>\n",
              "      <td>&lt;p&gt;I have a little game written in C#. It uses...</td>\n",
              "    </tr>\n",
              "  </tbody>\n",
              "</table>\n",
              "</div>"
            ],
            "text/plain": [
              "    Id  ...                                               Body\n",
              "0   80  ...  <p>I've written a database generation script i...\n",
              "1   90  ...  <p>Are there any really good tutorials explain...\n",
              "2  120  ...  <p>Has anyone got experience creating <strong>...\n",
              "3  180  ...  <p>This is something I've pseudo-solved many t...\n",
              "4  260  ...  <p>I have a little game written in C#. It uses...\n",
              "\n",
              "[5 rows x 7 columns]"
            ]
          },
          "metadata": {
            "tags": []
          },
          "execution_count": 6
        }
      ]
    },
    {
      "cell_type": "code",
      "metadata": {
        "colab": {
          "base_uri": "https://localhost:8080/",
          "height": 202
        },
        "id": "miOQaUO57EIu",
        "outputId": "252a0253-26e7-433c-a615-23d9c157418b"
      },
      "source": [
        "df_tags.head()"
      ],
      "execution_count": 7,
      "outputs": [
        {
          "output_type": "execute_result",
          "data": {
            "text/html": [
              "<div>\n",
              "<style scoped>\n",
              "    .dataframe tbody tr th:only-of-type {\n",
              "        vertical-align: middle;\n",
              "    }\n",
              "\n",
              "    .dataframe tbody tr th {\n",
              "        vertical-align: top;\n",
              "    }\n",
              "\n",
              "    .dataframe thead th {\n",
              "        text-align: right;\n",
              "    }\n",
              "</style>\n",
              "<table border=\"1\" class=\"dataframe\">\n",
              "  <thead>\n",
              "    <tr style=\"text-align: right;\">\n",
              "      <th></th>\n",
              "      <th>Id</th>\n",
              "      <th>Tag</th>\n",
              "    </tr>\n",
              "  </thead>\n",
              "  <tbody>\n",
              "    <tr>\n",
              "      <th>0</th>\n",
              "      <td>80</td>\n",
              "      <td>flex</td>\n",
              "    </tr>\n",
              "    <tr>\n",
              "      <th>1</th>\n",
              "      <td>80</td>\n",
              "      <td>actionscript-3</td>\n",
              "    </tr>\n",
              "    <tr>\n",
              "      <th>2</th>\n",
              "      <td>80</td>\n",
              "      <td>air</td>\n",
              "    </tr>\n",
              "    <tr>\n",
              "      <th>3</th>\n",
              "      <td>90</td>\n",
              "      <td>svn</td>\n",
              "    </tr>\n",
              "    <tr>\n",
              "      <th>4</th>\n",
              "      <td>90</td>\n",
              "      <td>tortoisesvn</td>\n",
              "    </tr>\n",
              "  </tbody>\n",
              "</table>\n",
              "</div>"
            ],
            "text/plain": [
              "   Id             Tag\n",
              "0  80            flex\n",
              "1  80  actionscript-3\n",
              "2  80             air\n",
              "3  90             svn\n",
              "4  90     tortoisesvn"
            ]
          },
          "metadata": {
            "tags": []
          },
          "execution_count": 7
        }
      ]
    },
    {
      "cell_type": "code",
      "metadata": {
        "colab": {
          "base_uri": "https://localhost:8080/"
        },
        "id": "q052f7Do2aIm",
        "outputId": "234775bc-f072-4788-db82-56681b3c993e"
      },
      "source": [
        "top_10_tags=df_tags['Tag'].value_counts().index[:10]\r\n",
        "top_10_tags"
      ],
      "execution_count": 8,
      "outputs": [
        {
          "output_type": "execute_result",
          "data": {
            "text/plain": [
              "Index(['javascript', 'java', 'c#', 'php', 'android', 'jquery', 'python',\n",
              "       'html', 'c++', 'ios'],\n",
              "      dtype='object')"
            ]
          },
          "metadata": {
            "tags": []
          },
          "execution_count": 8
        }
      ]
    },
    {
      "cell_type": "code",
      "metadata": {
        "id": "Avxcx4fNYgpa"
      },
      "source": [
        "# get top 10 most frequent names,now we will take below top 10 frequest tags in our dataset for our model\r\n",
        "# What exactly does adding .index does? Why can't I leave it till [:n]?\r\n",
        "# The returned data structure will have the name values stored in the index, \r\n",
        "# with their respective counts stored as the value. So if you didn't use index,\r\n",
        "# you'd get a list of the most frequent counts, not the associated name.\r\n",
        "# n = 10\r\n",
        "# df_tags['Tag'].value_counts()[:n].index.tolist()"
      ],
      "execution_count": 9,
      "outputs": []
    },
    {
      "cell_type": "code",
      "metadata": {
        "colab": {
          "base_uri": "https://localhost:8080/",
          "height": 202
        },
        "id": "13QSXM2323CP",
        "outputId": "330bfe44-ca22-467e-e9b7-107d1ba161db"
      },
      "source": [
        "tags=df_tags[df_tags['Tag'].isin(top_10_tags)]\r\n",
        "tags.head()\r\n",
        "# this way is better than writing 10 or conditions"
      ],
      "execution_count": 10,
      "outputs": [
        {
          "output_type": "execute_result",
          "data": {
            "text/html": [
              "<div>\n",
              "<style scoped>\n",
              "    .dataframe tbody tr th:only-of-type {\n",
              "        vertical-align: middle;\n",
              "    }\n",
              "\n",
              "    .dataframe tbody tr th {\n",
              "        vertical-align: top;\n",
              "    }\n",
              "\n",
              "    .dataframe thead th {\n",
              "        text-align: right;\n",
              "    }\n",
              "</style>\n",
              "<table border=\"1\" class=\"dataframe\">\n",
              "  <thead>\n",
              "    <tr style=\"text-align: right;\">\n",
              "      <th></th>\n",
              "      <th>Id</th>\n",
              "      <th>Tag</th>\n",
              "    </tr>\n",
              "  </thead>\n",
              "  <tbody>\n",
              "    <tr>\n",
              "      <th>14</th>\n",
              "      <td>260</td>\n",
              "      <td>c#</td>\n",
              "    </tr>\n",
              "    <tr>\n",
              "      <th>18</th>\n",
              "      <td>330</td>\n",
              "      <td>c++</td>\n",
              "    </tr>\n",
              "    <tr>\n",
              "      <th>28</th>\n",
              "      <td>650</td>\n",
              "      <td>c#</td>\n",
              "    </tr>\n",
              "    <tr>\n",
              "      <th>35</th>\n",
              "      <td>930</td>\n",
              "      <td>c#</td>\n",
              "    </tr>\n",
              "    <tr>\n",
              "      <th>39</th>\n",
              "      <td>1010</td>\n",
              "      <td>c#</td>\n",
              "    </tr>\n",
              "  </tbody>\n",
              "</table>\n",
              "</div>"
            ],
            "text/plain": [
              "      Id  Tag\n",
              "14   260   c#\n",
              "18   330  c++\n",
              "28   650   c#\n",
              "35   930   c#\n",
              "39  1010   c#"
            ]
          },
          "metadata": {
            "tags": []
          },
          "execution_count": 10
        }
      ]
    },
    {
      "cell_type": "code",
      "metadata": {
        "id": "8vND62yi1Fit"
      },
      "source": [
        "# https://www.ritchieng.com/pandas-multi-criteria-filtering/\r\n",
        "# filtering data to get 10 most occuring tags.\r\n",
        "# df_filter_tag = df_tags[(df_tags.Tag == 'javascript') | (df_tags.Tag == 'Java') | (df_tags.Tag == 'c#') | \r\n",
        "# (df_tags.Tag == 'php') | (df_tags.Tag == 'android') | (df_tags.Tag == 'jquery') | (df_tags.Tag == 'python') |\r\n",
        "# (df_tags.Tag == 'html') | (df_tags.Tag == 'c++') | (df_tags.Tag == 'ios')].reset_index(drop=True)\r\n"
      ],
      "execution_count": 11,
      "outputs": []
    },
    {
      "cell_type": "code",
      "metadata": {
        "colab": {
          "base_uri": "https://localhost:8080/"
        },
        "id": "s3w5Ekd33rX3",
        "outputId": "081b50c2-4414-41a3-ad41-bc55f866fe10"
      },
      "source": [
        "tags.shape"
      ],
      "execution_count": 12,
      "outputs": [
        {
          "output_type": "execute_result",
          "data": {
            "text/plain": [
              "(826739, 2)"
            ]
          },
          "metadata": {
            "tags": []
          },
          "execution_count": 12
        }
      ]
    },
    {
      "cell_type": "markdown",
      "metadata": {
        "id": "Zp2CLwzN_0Sn"
      },
      "source": [
        "Before we merge both dataframes. We will have to group tags by the id since a ID can have multiple tags. We will use the groupeby function and then merge the dataframes on the id."
      ]
    },
    {
      "cell_type": "code",
      "metadata": {
        "colab": {
          "base_uri": "https://localhost:8080/"
        },
        "id": "rrvTyLdn33Lr",
        "outputId": "2538e78b-ec2f-4653-bcad-fc4bbec6eb8c"
      },
      "source": [
        "# df_tags_new=df_filter_tag.groupby('Id')['Tag'].apply(list).reset_index()--# this creates list which create problem of\r\n",
        "# TypeError: unhashable type: 'list'.\r\n",
        "tags = tags.groupby(\"Id\")['Tag'].apply(lambda tags: ' '.join(tags))\r\n",
        "tags.head()"
      ],
      "execution_count": 13,
      "outputs": [
        {
          "output_type": "execute_result",
          "data": {
            "text/plain": [
              "Id\n",
              "260      c#\n",
              "330     c++\n",
              "650      c#\n",
              "930      c#\n",
              "1010     c#\n",
              "Name: Tag, dtype: object"
            ]
          },
          "metadata": {
            "tags": []
          },
          "execution_count": 13
        }
      ]
    },
    {
      "cell_type": "code",
      "metadata": {
        "colab": {
          "base_uri": "https://localhost:8080/",
          "height": 202
        },
        "id": "mhif9zRGLvoN",
        "outputId": "30831f62-2ca4-42b4-e274-aa5058f9888e"
      },
      "source": [
        "tag = pd.DataFrame({'Id':tags.index, 'Tag':tags.values})\r\n",
        "tag.head()"
      ],
      "execution_count": 14,
      "outputs": [
        {
          "output_type": "execute_result",
          "data": {
            "text/html": [
              "<div>\n",
              "<style scoped>\n",
              "    .dataframe tbody tr th:only-of-type {\n",
              "        vertical-align: middle;\n",
              "    }\n",
              "\n",
              "    .dataframe tbody tr th {\n",
              "        vertical-align: top;\n",
              "    }\n",
              "\n",
              "    .dataframe thead th {\n",
              "        text-align: right;\n",
              "    }\n",
              "</style>\n",
              "<table border=\"1\" class=\"dataframe\">\n",
              "  <thead>\n",
              "    <tr style=\"text-align: right;\">\n",
              "      <th></th>\n",
              "      <th>Id</th>\n",
              "      <th>Tag</th>\n",
              "    </tr>\n",
              "  </thead>\n",
              "  <tbody>\n",
              "    <tr>\n",
              "      <th>0</th>\n",
              "      <td>260</td>\n",
              "      <td>c#</td>\n",
              "    </tr>\n",
              "    <tr>\n",
              "      <th>1</th>\n",
              "      <td>330</td>\n",
              "      <td>c++</td>\n",
              "    </tr>\n",
              "    <tr>\n",
              "      <th>2</th>\n",
              "      <td>650</td>\n",
              "      <td>c#</td>\n",
              "    </tr>\n",
              "    <tr>\n",
              "      <th>3</th>\n",
              "      <td>930</td>\n",
              "      <td>c#</td>\n",
              "    </tr>\n",
              "    <tr>\n",
              "      <th>4</th>\n",
              "      <td>1010</td>\n",
              "      <td>c#</td>\n",
              "    </tr>\n",
              "  </tbody>\n",
              "</table>\n",
              "</div>"
            ],
            "text/plain": [
              "     Id  Tag\n",
              "0   260   c#\n",
              "1   330  c++\n",
              "2   650   c#\n",
              "3   930   c#\n",
              "4  1010   c#"
            ]
          },
          "metadata": {
            "tags": []
          },
          "execution_count": 14
        }
      ]
    },
    {
      "cell_type": "code",
      "metadata": {
        "colab": {
          "base_uri": "https://localhost:8080/"
        },
        "id": "jQHI75JoAZpz",
        "outputId": "e01ada2d-99e4-4337-a480-28aabd576277"
      },
      "source": [
        "tag.shape\r\n",
        "\r\n",
        "# around 1 lakh rows reduced"
      ],
      "execution_count": 15,
      "outputs": [
        {
          "output_type": "execute_result",
          "data": {
            "text/plain": [
              "(706336, 2)"
            ]
          },
          "metadata": {
            "tags": []
          },
          "execution_count": 15
        }
      ]
    },
    {
      "cell_type": "code",
      "metadata": {
        "colab": {
          "base_uri": "https://localhost:8080/",
          "height": 289
        },
        "id": "HXd8lDofxFOl",
        "outputId": "89b3d666-272c-412c-9e04-9db7f044b578"
      },
      "source": [
        "df_combine = pd.merge(tag, df_questions, how ='left', on ='Id')\r\n",
        "df_combine.head()"
      ],
      "execution_count": 16,
      "outputs": [
        {
          "output_type": "execute_result",
          "data": {
            "text/html": [
              "<div>\n",
              "<style scoped>\n",
              "    .dataframe tbody tr th:only-of-type {\n",
              "        vertical-align: middle;\n",
              "    }\n",
              "\n",
              "    .dataframe tbody tr th {\n",
              "        vertical-align: top;\n",
              "    }\n",
              "\n",
              "    .dataframe thead th {\n",
              "        text-align: right;\n",
              "    }\n",
              "</style>\n",
              "<table border=\"1\" class=\"dataframe\">\n",
              "  <thead>\n",
              "    <tr style=\"text-align: right;\">\n",
              "      <th></th>\n",
              "      <th>Id</th>\n",
              "      <th>Tag</th>\n",
              "      <th>OwnerUserId</th>\n",
              "      <th>CreationDate</th>\n",
              "      <th>ClosedDate</th>\n",
              "      <th>Score</th>\n",
              "      <th>Title</th>\n",
              "      <th>Body</th>\n",
              "    </tr>\n",
              "  </thead>\n",
              "  <tbody>\n",
              "    <tr>\n",
              "      <th>0</th>\n",
              "      <td>260</td>\n",
              "      <td>c#</td>\n",
              "      <td>91.0</td>\n",
              "      <td>2008-08-01T23:22:08Z</td>\n",
              "      <td>NaN</td>\n",
              "      <td>49</td>\n",
              "      <td>Adding scripting functionality to .NET applica...</td>\n",
              "      <td>&lt;p&gt;I have a little game written in C#. It uses...</td>\n",
              "    </tr>\n",
              "    <tr>\n",
              "      <th>1</th>\n",
              "      <td>330</td>\n",
              "      <td>c++</td>\n",
              "      <td>63.0</td>\n",
              "      <td>2008-08-02T02:51:36Z</td>\n",
              "      <td>NaN</td>\n",
              "      <td>29</td>\n",
              "      <td>Should I use nested classes in this case?</td>\n",
              "      <td>&lt;p&gt;I am working on a collection of classes use...</td>\n",
              "    </tr>\n",
              "    <tr>\n",
              "      <th>2</th>\n",
              "      <td>650</td>\n",
              "      <td>c#</td>\n",
              "      <td>143.0</td>\n",
              "      <td>2008-08-03T11:12:52Z</td>\n",
              "      <td>NaN</td>\n",
              "      <td>79</td>\n",
              "      <td>Automatically update version number</td>\n",
              "      <td>&lt;p&gt;I would like the version property of my app...</td>\n",
              "    </tr>\n",
              "    <tr>\n",
              "      <th>3</th>\n",
              "      <td>930</td>\n",
              "      <td>c#</td>\n",
              "      <td>245.0</td>\n",
              "      <td>2008-08-04T00:47:25Z</td>\n",
              "      <td>NaN</td>\n",
              "      <td>28</td>\n",
              "      <td>How do I connect to a database and loop over a...</td>\n",
              "      <td>&lt;p&gt;What's the simplest way to connect and quer...</td>\n",
              "    </tr>\n",
              "    <tr>\n",
              "      <th>4</th>\n",
              "      <td>1010</td>\n",
              "      <td>c#</td>\n",
              "      <td>67.0</td>\n",
              "      <td>2008-08-04T03:59:42Z</td>\n",
              "      <td>NaN</td>\n",
              "      <td>14</td>\n",
              "      <td>How to get the value of built, encoded ViewState?</td>\n",
              "      <td>&lt;p&gt;I need to grab the base64-encoded represent...</td>\n",
              "    </tr>\n",
              "  </tbody>\n",
              "</table>\n",
              "</div>"
            ],
            "text/plain": [
              "     Id  ...                                               Body\n",
              "0   260  ...  <p>I have a little game written in C#. It uses...\n",
              "1   330  ...  <p>I am working on a collection of classes use...\n",
              "2   650  ...  <p>I would like the version property of my app...\n",
              "3   930  ...  <p>What's the simplest way to connect and quer...\n",
              "4  1010  ...  <p>I need to grab the base64-encoded represent...\n",
              "\n",
              "[5 rows x 8 columns]"
            ]
          },
          "metadata": {
            "tags": []
          },
          "execution_count": 16
        }
      ]
    },
    {
      "cell_type": "code",
      "metadata": {
        "colab": {
          "base_uri": "https://localhost:8080/"
        },
        "id": "YaJ0bb5VxWmm",
        "outputId": "1c919103-ddea-4e5e-ff98-2b99c9cf250d"
      },
      "source": [
        "df_combine.shape"
      ],
      "execution_count": 17,
      "outputs": [
        {
          "output_type": "execute_result",
          "data": {
            "text/plain": [
              "(706336, 8)"
            ]
          },
          "metadata": {
            "tags": []
          },
          "execution_count": 17
        }
      ]
    },
    {
      "cell_type": "markdown",
      "metadata": {
        "id": "_wk_XqvpQnJ5"
      },
      "source": [
        "Now, we will take only quesions witha score greater than 5. We doing that for 2 reasons:\r\n",
        "\r\n",
        "1- We don't have to deal with \"Your session crashed after using all available RAM in Google Collab\"\r\n",
        "\r\n",
        "2- The posts will probably be with a better quality and will be better tagged since they have lots of upvotes."
      ]
    },
    {
      "cell_type": "code",
      "metadata": {
        "id": "Fqz9iMSpQd2p"
      },
      "source": [
        "new_df = df_combine[df_combine.Score>5]"
      ],
      "execution_count": 18,
      "outputs": []
    },
    {
      "cell_type": "code",
      "metadata": {
        "colab": {
          "base_uri": "https://localhost:8080/"
        },
        "id": "mwJR1t31RQoB",
        "outputId": "c4f64b9f-dc8b-48cc-9b4d-690f883a5a1f"
      },
      "source": [
        "new_df.shape"
      ],
      "execution_count": 19,
      "outputs": [
        {
          "output_type": "execute_result",
          "data": {
            "text/plain": [
              "(39857, 8)"
            ]
          },
          "metadata": {
            "tags": []
          },
          "execution_count": 19
        }
      ]
    },
    {
      "cell_type": "code",
      "metadata": {
        "id": "l4GksjWEBbZo"
      },
      "source": [
        "drop_cols=['Id','OwnerUserId','CreationDate','ClosedDate','Score']"
      ],
      "execution_count": 20,
      "outputs": []
    },
    {
      "cell_type": "code",
      "metadata": {
        "colab": {
          "base_uri": "https://localhost:8080/",
          "height": 202
        },
        "id": "v8GDWfVvBq-w",
        "outputId": "ed5b390e-ccef-4fcc-996d-904c85aa607e"
      },
      "source": [
        "new_df.drop(drop_cols,1,inplace=True)  # 1 is axis as we are dropping columns\r\n",
        "new_df.head()"
      ],
      "execution_count": 21,
      "outputs": [
        {
          "output_type": "execute_result",
          "data": {
            "text/html": [
              "<div>\n",
              "<style scoped>\n",
              "    .dataframe tbody tr th:only-of-type {\n",
              "        vertical-align: middle;\n",
              "    }\n",
              "\n",
              "    .dataframe tbody tr th {\n",
              "        vertical-align: top;\n",
              "    }\n",
              "\n",
              "    .dataframe thead th {\n",
              "        text-align: right;\n",
              "    }\n",
              "</style>\n",
              "<table border=\"1\" class=\"dataframe\">\n",
              "  <thead>\n",
              "    <tr style=\"text-align: right;\">\n",
              "      <th></th>\n",
              "      <th>Tag</th>\n",
              "      <th>Title</th>\n",
              "      <th>Body</th>\n",
              "    </tr>\n",
              "  </thead>\n",
              "  <tbody>\n",
              "    <tr>\n",
              "      <th>0</th>\n",
              "      <td>c#</td>\n",
              "      <td>Adding scripting functionality to .NET applica...</td>\n",
              "      <td>&lt;p&gt;I have a little game written in C#. It uses...</td>\n",
              "    </tr>\n",
              "    <tr>\n",
              "      <th>1</th>\n",
              "      <td>c++</td>\n",
              "      <td>Should I use nested classes in this case?</td>\n",
              "      <td>&lt;p&gt;I am working on a collection of classes use...</td>\n",
              "    </tr>\n",
              "    <tr>\n",
              "      <th>2</th>\n",
              "      <td>c#</td>\n",
              "      <td>Automatically update version number</td>\n",
              "      <td>&lt;p&gt;I would like the version property of my app...</td>\n",
              "    </tr>\n",
              "    <tr>\n",
              "      <th>3</th>\n",
              "      <td>c#</td>\n",
              "      <td>How do I connect to a database and loop over a...</td>\n",
              "      <td>&lt;p&gt;What's the simplest way to connect and quer...</td>\n",
              "    </tr>\n",
              "    <tr>\n",
              "      <th>4</th>\n",
              "      <td>c#</td>\n",
              "      <td>How to get the value of built, encoded ViewState?</td>\n",
              "      <td>&lt;p&gt;I need to grab the base64-encoded represent...</td>\n",
              "    </tr>\n",
              "  </tbody>\n",
              "</table>\n",
              "</div>"
            ],
            "text/plain": [
              "   Tag  ...                                               Body\n",
              "0   c#  ...  <p>I have a little game written in C#. It uses...\n",
              "1  c++  ...  <p>I am working on a collection of classes use...\n",
              "2   c#  ...  <p>I would like the version property of my app...\n",
              "3   c#  ...  <p>What's the simplest way to connect and quer...\n",
              "4   c#  ...  <p>I need to grab the base64-encoded represent...\n",
              "\n",
              "[5 rows x 3 columns]"
            ]
          },
          "metadata": {
            "tags": []
          },
          "execution_count": 21
        }
      ]
    },
    {
      "cell_type": "code",
      "metadata": {
        "id": "qg9SrtePDmjo"
      },
      "source": [
        "X = new_df['Body']\r\n",
        "Y = new_df['Tag']"
      ],
      "execution_count": 22,
      "outputs": []
    },
    {
      "cell_type": "markdown",
      "metadata": {
        "id": "BKzNgVwM5RcH"
      },
      "source": [
        "Preprocessing and Cleaning\n",
        "\n"
      ]
    },
    {
      "cell_type": "code",
      "metadata": {
        "id": "Ei4IMlnP5rUM"
      },
      "source": [
        "import matplotlib.pyplot as plt\r\n",
        "import matplotlib.lines as mlines\r\n",
        "import seaborn as sns\r\n",
        "import warnings\r\n",
        "\r\n",
        "import re\r\n",
        "from bs4 import BeautifulSoup\r\n",
        "import nltk\r\n",
        "from nltk.tokenize import ToktokTokenizer\r\n",
        "from nltk.stem.wordnet import WordNetLemmatizer\r\n",
        "from nltk.corpus import stopwords\r\n",
        "from string import punctuation\r\n",
        "from sklearn.preprocessing import LabelEncoder"
      ],
      "execution_count": 23,
      "outputs": []
    },
    {
      "cell_type": "markdown",
      "metadata": {
        "id": "Ykhnj6MMCBop"
      },
      "source": [
        "In the next two columns: Body and Title, we will use lots of text processing:\r\n",
        "\r\n",
        "Removing html format\r\n",
        "Lowering text\r\n",
        "Transforming abbreviations\r\n",
        "Removing punctuation (but keeping words like c# since it's the most popular tag)\r\n",
        "Lemmatizing words\r\n",
        "Removing stop words"
      ]
    },
    {
      "cell_type": "code",
      "metadata": {
        "id": "Ty2woCXx6ccN"
      },
      "source": [
        " # Converting html to text in the body\r\n",
        "\r\n",
        "X = X.apply(lambda x: BeautifulSoup(x).get_text()) "
      ],
      "execution_count": 24,
      "outputs": []
    },
    {
      "cell_type": "code",
      "metadata": {
        "id": "d9Nm2i0B6caB"
      },
      "source": [
        "def clean_text(text):\r\n",
        "    text = text.lower()\r\n",
        "    text = re.sub(r\"what's\", \"what is \", text)\r\n",
        "    text = re.sub(r\"\\'s\", \" \", text)\r\n",
        "    text = re.sub(r\"\\'ve\", \" have \", text)\r\n",
        "    text = re.sub(r\"can't\", \"can not \", text)\r\n",
        "    text = re.sub(r\"n't\", \" not \", text)\r\n",
        "    text = re.sub(r\"i'm\", \"i am \", text)\r\n",
        "    text = re.sub(r\"\\'re\", \" are \", text)\r\n",
        "    text = re.sub(r\"\\'d\", \" would \", text)\r\n",
        "    text = re.sub(r\"\\'ll\", \" will \", text)\r\n",
        "    text = re.sub(r\"\\'scuse\", \" excuse \", text)\r\n",
        "    text = re.sub(r\"\\'\\n\", \" \", text)\r\n",
        "    text = re.sub(r\"\\'\\xa0\", \" \", text)\r\n",
        "    text = re.sub('\\s+', ' ', text)\r\n",
        "    text = text.strip(' ')\r\n",
        "    return text"
      ],
      "execution_count": 25,
      "outputs": []
    },
    {
      "cell_type": "code",
      "metadata": {
        "id": "a_smIICQ6cNi"
      },
      "source": [
        "X = X.apply(lambda x: clean_text(x))\r\n"
      ],
      "execution_count": 26,
      "outputs": []
    },
    {
      "cell_type": "code",
      "metadata": {
        "colab": {
          "base_uri": "https://localhost:8080/"
        },
        "id": "9mN6Ir0yZVh2",
        "outputId": "0e1cd10b-184d-4c87-8df9-d8a1a334aa5f"
      },
      "source": [
        "X.head()"
      ],
      "execution_count": 27,
      "outputs": [
        {
          "output_type": "execute_result",
          "data": {
            "text/plain": [
              "0    i have a little game written in c#. it uses a ...\n",
              "1    i am working on a collection of classes used f...\n",
              "2    i would like the version property of my applic...\n",
              "3    what is the simplest way to connect and query ...\n",
              "4    i need to grab the base64-encoded representati...\n",
              "Name: Body, dtype: object"
            ]
          },
          "metadata": {
            "tags": []
          },
          "execution_count": 27
        }
      ]
    },
    {
      "cell_type": "code",
      "metadata": {
        "colab": {
          "base_uri": "https://localhost:8080/",
          "height": 157
        },
        "id": "ufUYy92UGGl0",
        "outputId": "b6f1a46b-4aa8-4602-fc53-2d350ad20961"
      },
      "source": [
        "X[1]"
      ],
      "execution_count": 28,
      "outputs": [
        {
          "output_type": "execute_result",
          "data": {
            "application/vnd.google.colaboratory.intrinsic+json": {
              "type": "string"
            },
            "text/plain": [
              "'i am working on a collection of classes used for video playback and recording. i have one main class which acts like the public interface, with methods like play(), stop(), pause(), record() etc... then i have workhorse classes which do the video decoding and video encoding. i just learned about the existence of nested classes in c++, and i am curious to know what programmers think about using them. i am a little wary and not really sure what the benefits/drawbacks are, but they seem (according to the book i am reading) to be used in cases such as mine. the book suggests that in a scenario like mine, a good solution would be to nest the workhorse classes inside the interface class, so there are no separate files for classes the client is not meant to use, and to avoid any possible naming conflicts? i do not know about these justifications. nested classes are a new concept to me. just want to see what programmers think about the issue.'"
            ]
          },
          "metadata": {
            "tags": []
          },
          "execution_count": 28
        }
      ]
    },
    {
      "cell_type": "code",
      "metadata": {
        "id": "uZzwf6boQp6c"
      },
      "source": [
        "# Using multilabelbinarizer to convert the list to target columns as its multilable problem\r\n",
        "from sklearn.preprocessing import MultiLabelBinarizer\r\n",
        "mlb = MultiLabelBinarizer()"
      ],
      "execution_count": 29,
      "outputs": []
    },
    {
      "cell_type": "code",
      "metadata": {
        "id": "sDEdmyg8Qt3K",
        "colab": {
          "base_uri": "https://localhost:8080/"
        },
        "outputId": "914873bf-dea9-48e6-fdb0-0f12bb4f44d2"
      },
      "source": [
        "mlb.fit(Y)"
      ],
      "execution_count": 30,
      "outputs": [
        {
          "output_type": "execute_result",
          "data": {
            "text/plain": [
              "MultiLabelBinarizer(classes=None, sparse_output=False)"
            ]
          },
          "metadata": {
            "tags": []
          },
          "execution_count": 30
        }
      ]
    },
    {
      "cell_type": "code",
      "metadata": {
        "id": "WiXWxAPDQtw-"
      },
      "source": [
        "Y =  mlb.transform(Y)"
      ],
      "execution_count": 31,
      "outputs": []
    },
    {
      "cell_type": "code",
      "metadata": {
        "colab": {
          "base_uri": "https://localhost:8080/"
        },
        "id": "u31ra-awcWRR",
        "outputId": "35e43390-dbc8-4d89-88e1-60fb000d94e6"
      },
      "source": [
        "Y"
      ],
      "execution_count": 32,
      "outputs": [
        {
          "output_type": "execute_result",
          "data": {
            "text/plain": [
              "array([[0, 1, 0, ..., 0, 0, 0],\n",
              "       [0, 0, 1, ..., 0, 0, 0],\n",
              "       [0, 1, 0, ..., 0, 0, 0],\n",
              "       ...,\n",
              "       [0, 0, 0, ..., 0, 0, 1],\n",
              "       [0, 0, 0, ..., 0, 0, 1],\n",
              "       [0, 0, 1, ..., 0, 0, 0]])"
            ]
          },
          "metadata": {
            "tags": []
          },
          "execution_count": 32
        }
      ]
    },
    {
      "cell_type": "code",
      "metadata": {
        "colab": {
          "base_uri": "https://localhost:8080/"
        },
        "id": "FbEwhzE0nmfQ",
        "outputId": "fcd8d83f-a498-4aee-be30-bfc22a30c304"
      },
      "source": [
        "Y.shape        # 22 here means there is 22 unique values, final layer in architecture will be 22 nodes"
      ],
      "execution_count": 33,
      "outputs": [
        {
          "output_type": "execute_result",
          "data": {
            "text/plain": [
              "(39857, 22)"
            ]
          },
          "metadata": {
            "tags": []
          },
          "execution_count": 33
        }
      ]
    },
    {
      "cell_type": "code",
      "metadata": {
        "colab": {
          "base_uri": "https://localhost:8080/"
        },
        "id": "YfgoEr9va8ws",
        "outputId": "a310f1f9-bdf6-4e2d-fadb-82b214414bd5"
      },
      "source": [
        "(Y.sum(axis=1)>1).sum() # you can see there around 10% cases where\r\n",
        "# there are multiple tags\r\n",
        "# but there is no changes happening"
      ],
      "execution_count": 34,
      "outputs": [
        {
          "output_type": "execute_result",
          "data": {
            "text/plain": [
              "39857"
            ]
          },
          "metadata": {
            "tags": []
          },
          "execution_count": 34
        }
      ]
    },
    {
      "cell_type": "code",
      "metadata": {
        "id": "pY0kMdEjrJLG"
      },
      "source": [
        "# splitting the data into train and text\r\n",
        "X_train,X_test,Y_train,Y_test = train_test_split(X,Y,test_size=0.20, random_state = 42)"
      ],
      "execution_count": 35,
      "outputs": []
    },
    {
      "cell_type": "code",
      "metadata": {
        "id": "vOwtB4on_mzm"
      },
      "source": [
        "#tokenizer to read all the words present in our corpus, that is all the unique words are getting assigned to numbers\n",
        "\n",
        "# token = Tokenizer()\n",
        "token = Tokenizer(char_level=False,split=' ')  #if I wanted to split alphabet wise then char_level=True and Split=''\n",
        "token.fit_on_texts(X_train)"
      ],
      "execution_count": 36,
      "outputs": []
    },
    {
      "cell_type": "code",
      "metadata": {
        "colab": {
          "base_uri": "https://localhost:8080/"
        },
        "id": "eVMW5JPS4_-n",
        "outputId": "ec3bb17f-74e1-45c0-e195-e5a740d98f23"
      },
      "source": [
        "token.word_index"
      ],
      "execution_count": 37,
      "outputs": [
        {
          "output_type": "execute_result",
          "data": {
            "text/plain": [
              "{'the': 1,\n",
              " 'i': 2,\n",
              " 'to': 3,\n",
              " 'a': 4,\n",
              " 'is': 5,\n",
              " 'in': 6,\n",
              " 'and': 7,\n",
              " 'this': 8,\n",
              " 'of': 9,\n",
              " 'it': 10,\n",
              " 'not': 11,\n",
              " 'that': 12,\n",
              " 'for': 13,\n",
              " 'have': 14,\n",
              " '0': 15,\n",
              " 'if': 16,\n",
              " 'am': 17,\n",
              " '1': 18,\n",
              " 'but': 19,\n",
              " 'my': 20,\n",
              " 'with': 21,\n",
              " 'on': 22,\n",
              " 'android': 23,\n",
              " 'be': 24,\n",
              " 'can': 25,\n",
              " 'do': 26,\n",
              " 'class': 27,\n",
              " 'as': 28,\n",
              " 'new': 29,\n",
              " 'java': 30,\n",
              " 'at': 31,\n",
              " 'an': 32,\n",
              " 'from': 33,\n",
              " 'code': 34,\n",
              " 'string': 35,\n",
              " '2': 36,\n",
              " 'public': 37,\n",
              " 'using': 38,\n",
              " 'so': 39,\n",
              " 'or': 40,\n",
              " 'would': 41,\n",
              " 'like': 42,\n",
              " 'how': 43,\n",
              " 'are': 44,\n",
              " 'get': 45,\n",
              " 'there': 46,\n",
              " 'when': 47,\n",
              " 'what': 48,\n",
              " \"'\": 49,\n",
              " 'function': 50,\n",
              " 'id': 51,\n",
              " 'int': 52,\n",
              " 'return': 53,\n",
              " 'name': 54,\n",
              " 'file': 55,\n",
              " 'use': 56,\n",
              " 'c': 57,\n",
              " 'data': 58,\n",
              " 'any': 59,\n",
              " 'which': 60,\n",
              " 'does': 61,\n",
              " 'error': 62,\n",
              " 'some': 63,\n",
              " 'all': 64,\n",
              " 'want': 65,\n",
              " '3': 66,\n",
              " 'you': 67,\n",
              " 'com': 68,\n",
              " 'type': 69,\n",
              " 'app': 70,\n",
              " 'way': 71,\n",
              " 'value': 72,\n",
              " 'here': 73,\n",
              " 'one': 74,\n",
              " 'will': 75,\n",
              " 'void': 76,\n",
              " 'by': 77,\n",
              " 'method': 78,\n",
              " 'var': 79,\n",
              " '4': 80,\n",
              " 'e': 81,\n",
              " 'object': 82,\n",
              " '5': 83,\n",
              " 'set': 84,\n",
              " 'x': 85,\n",
              " 'me': 86,\n",
              " 'user': 87,\n",
              " 'http': 88,\n",
              " 'system': 89,\n",
              " 'just': 90,\n",
              " 'out': 91,\n",
              " 'list': 92,\n",
              " 'has': 93,\n",
              " 'need': 94,\n",
              " 'div': 95,\n",
              " 'text': 96,\n",
              " 'no': 97,\n",
              " 'org': 98,\n",
              " 'know': 99,\n",
              " 'application': 100,\n",
              " 'true': 101,\n",
              " 'only': 102,\n",
              " 'was': 103,\n",
              " 'then': 104,\n",
              " 'should': 105,\n",
              " 'view': 106,\n",
              " 'time': 107,\n",
              " 'example': 108,\n",
              " 't': 109,\n",
              " 'test': 110,\n",
              " 'null': 111,\n",
              " 'following': 112,\n",
              " 'problem': 113,\n",
              " 'other': 114,\n",
              " 'work': 115,\n",
              " 'b': 116,\n",
              " 'add': 117,\n",
              " 'layout': 118,\n",
              " 'array': 119,\n",
              " 'main': 120,\n",
              " '10': 121,\n",
              " 'something': 122,\n",
              " 'now': 123,\n",
              " 'self': 124,\n",
              " 'static': 125,\n",
              " 'same': 126,\n",
              " 'run': 127,\n",
              " 'could': 128,\n",
              " 'line': 129,\n",
              " 'also': 130,\n",
              " 'html': 131,\n",
              " 'we': 132,\n",
              " 'import': 133,\n",
              " '7': 134,\n",
              " '6': 135,\n",
              " 'where': 136,\n",
              " 'php': 137,\n",
              " 'trying': 138,\n",
              " 'private': 139,\n",
              " 'find': 140,\n",
              " '8': 141,\n",
              " 'image': 142,\n",
              " 'into': 143,\n",
              " 'up': 144,\n",
              " 'create': 145,\n",
              " 'content': 146,\n",
              " 'about': 147,\n",
              " 'std': 148,\n",
              " 'width': 149,\n",
              " 'page': 150,\n",
              " 'first': 151,\n",
              " 'more': 152,\n",
              " 'server': 153,\n",
              " 'make': 154,\n",
              " 'question': 155,\n",
              " 'why': 156,\n",
              " 'call': 157,\n",
              " 'false': 158,\n",
              " 'tried': 159,\n",
              " 'see': 160,\n",
              " 'version': 161,\n",
              " 'thanks': 162,\n",
              " 'size': 163,\n",
              " 'project': 164,\n",
              " 'height': 165,\n",
              " 'item': 166,\n",
              " 'after': 167,\n",
              " 'python': 168,\n",
              " 'result': 169,\n",
              " 'url': 170,\n",
              " 'however': 171,\n",
              " 'works': 172,\n",
              " 'button': 173,\n",
              " 'log': 174,\n",
              " 'because': 175,\n",
              " 'each': 176,\n",
              " 'n': 177,\n",
              " 'r': 178,\n",
              " 'exception': 179,\n",
              " 'possible': 180,\n",
              " 'd': 181,\n",
              " 'they': 182,\n",
              " 'script': 183,\n",
              " 'web': 184,\n",
              " 'input': 185,\n",
              " 'files': 186,\n",
              " 'try': 187,\n",
              " 'thread': 188,\n",
              " 'two': 189,\n",
              " 'used': 190,\n",
              " 'help': 191,\n",
              " 'else': 192,\n",
              " 's': 193,\n",
              " 'found': 194,\n",
              " 'case': 195,\n",
              " 'p': 196,\n",
              " 'key': 197,\n",
              " 'request': 198,\n",
              " 'them': 199,\n",
              " 'js': 200,\n",
              " 'xml': 201,\n",
              " 'these': 202,\n",
              " 'edit': 203,\n",
              " 'javascript': 204,\n",
              " 'td': 205,\n",
              " 'foo': 206,\n",
              " 'context': 207,\n",
              " 'seems': 208,\n",
              " 'net': 209,\n",
              " 'event': 210,\n",
              " 'library': 211,\n",
              " 'read': 212,\n",
              " 'build': 213,\n",
              " 'message': 214,\n",
              " 'been': 215,\n",
              " 'working': 216,\n",
              " 'start': 217,\n",
              " 'update': 218,\n",
              " 'jquery': 219,\n",
              " 'without': 220,\n",
              " 'right': 221,\n",
              " 'number': 222,\n",
              " 'include': 223,\n",
              " 'google': 224,\n",
              " 'table': 225,\n",
              " 'while': 226,\n",
              " 'form': 227,\n",
              " 'y': 228,\n",
              " '9': 229,\n",
              " 'console': 230,\n",
              " 'different': 231,\n",
              " 'its': 232,\n",
              " 'than': 233,\n",
              " 'change': 234,\n",
              " 'default': 235,\n",
              " 'solution': 236,\n",
              " 'api': 237,\n",
              " 'override': 238,\n",
              " 'parent': 239,\n",
              " 'write': 240,\n",
              " 'able': 241,\n",
              " 'path': 242,\n",
              " 'length': 243,\n",
              " 'output': 244,\n",
              " 'still': 245,\n",
              " 'activity': 246,\n",
              " 'values': 247,\n",
              " 'source': 248,\n",
              " 'anyone': 249,\n",
              " 'doing': 250,\n",
              " 'const': 251,\n",
              " '11': 252,\n",
              " 'service': 253,\n",
              " 'another': 254,\n",
              " 'simple': 255,\n",
              " 'style': 256,\n",
              " 'date': 257,\n",
              " 'even': 258,\n",
              " 'program': 259,\n",
              " 'before': 260,\n",
              " 'lib': 261,\n",
              " 'end': 262,\n",
              " 'very': 263,\n",
              " 'below': 264,\n",
              " 'element': 265,\n",
              " 'property': 266,\n",
              " '00': 267,\n",
              " 'option': 268,\n",
              " 'client': 269,\n",
              " 'color': 270,\n",
              " 'g': 271,\n",
              " 'long': 272,\n",
              " 'background': 273,\n",
              " 'fine': 274,\n",
              " 'access': 275,\n",
              " 'show': 276,\n",
              " 'really': 277,\n",
              " 'm': 278,\n",
              " 'src': 279,\n",
              " 'running': 280,\n",
              " 'final': 281,\n",
              " 'both': 282,\n",
              " 'print': 283,\n",
              " 'index': 284,\n",
              " 'post': 285,\n",
              " 'did': 286,\n",
              " 'document': 287,\n",
              " 'select': 288,\n",
              " 'windows': 289,\n",
              " 'called': 290,\n",
              " 'model': 291,\n",
              " 'response': 292,\n",
              " 'action': 293,\n",
              " 'â': 294,\n",
              " 'database': 295,\n",
              " 'window': 296,\n",
              " 'support': 297,\n",
              " 'json': 298,\n",
              " 'li': 299,\n",
              " 'since': 300,\n",
              " 'debug': 301,\n",
              " 'load': 302,\n",
              " 'open': 303,\n",
              " 'such': 304,\n",
              " 'current': 305,\n",
              " 'map': 306,\n",
              " 'template': 307,\n",
              " 'intent': 308,\n",
              " 'point': 309,\n",
              " 'click': 310,\n",
              " 'check': 311,\n",
              " 'please': 312,\n",
              " 'bar': 313,\n",
              " 'being': 314,\n",
              " 'py': 315,\n",
              " '12': 316,\n",
              " 'instead': 317,\n",
              " 'getting': 318,\n",
              " 'memory': 319,\n",
              " 'h': 320,\n",
              " 'above': 321,\n",
              " 'f': 322,\n",
              " 'instance': 323,\n",
              " 'sure': 324,\n",
              " 'issue': 325,\n",
              " 'query': 326,\n",
              " 'back': 327,\n",
              " 'between': 328,\n",
              " 'your': 329,\n",
              " 'title': 330,\n",
              " 'looking': 331,\n",
              " 'cannot': 332,\n",
              " 'www': 333,\n",
              " 'methods': 334,\n",
              " 'info': 335,\n",
              " 'etc': 336,\n",
              " 'through': 337,\n",
              " 'position': 338,\n",
              " 'session': 339,\n",
              " 'think': 340,\n",
              " '100': 341,\n",
              " 'wrong': 342,\n",
              " 'display': 343,\n",
              " 'process': 344,\n",
              " 'variable': 345,\n",
              " 'module': 346,\n",
              " 'double': 347,\n",
              " 'apache': 348,\n",
              " 'reference': 349,\n",
              " 'created': 350,\n",
              " 'v': 351,\n",
              " 'order': 352,\n",
              " 'os': 353,\n",
              " 'objects': 354,\n",
              " 'well': 355,\n",
              " 'users': 356,\n",
              " 'done': 357,\n",
              " 'good': 358,\n",
              " 'css': 359,\n",
              " 'every': 360,\n",
              " 'compile': 361,\n",
              " 'link': 362,\n",
              " 'char': 363,\n",
              " 'eclipse': 364,\n",
              " 'put': 365,\n",
              " 'row': 366,\n",
              " 'second': 367,\n",
              " 'node': 368,\n",
              " 'command': 369,\n",
              " 'left': 370,\n",
              " 'understand': 371,\n",
              " 'having': 372,\n",
              " 'lang': 373,\n",
              " 'answer': 374,\n",
              " 'many': 375,\n",
              " 'top': 376,\n",
              " 'base': 377,\n",
              " 'controller': 378,\n",
              " 'got': 379,\n",
              " 'internal': 380,\n",
              " 'inside': 381,\n",
              " 'match': 382,\n",
              " 'classes': 383,\n",
              " 'ui': 384,\n",
              " 'best': 385,\n",
              " 'count': 386,\n",
              " '15': 387,\n",
              " 'catch': 388,\n",
              " 'body': 389,\n",
              " 'o': 390,\n",
              " 'core': 391,\n",
              " 'over': 392,\n",
              " 'seem': 393,\n",
              " 'state': 394,\n",
              " 'better': 395,\n",
              " 'much': 396,\n",
              " 'config': 397,\n",
              " 'already': 398,\n",
              " 'results': 399,\n",
              " 'location': 400,\n",
              " 'returns': 401,\n",
              " 'header': 402,\n",
              " 'uses': 403,\n",
              " 'connection': 404,\n",
              " 'def': 405,\n",
              " 'bit': 406,\n",
              " 'looks': 407,\n",
              " 'let': 408,\n",
              " 'custom': 409,\n",
              " 'format': 410,\n",
              " 'label': 411,\n",
              " '20': 412,\n",
              " 'init': 413,\n",
              " 'task': 414,\n",
              " 'most': 415,\n",
              " 'say': 416,\n",
              " 'always': 417,\n",
              " 'loop': 418,\n",
              " 'idea': 419,\n",
              " 'go': 420,\n",
              " 'correct': 421,\n",
              " 'jar': 422,\n",
              " 'address': 423,\n",
              " 'may': 424,\n",
              " 'options': 425,\n",
              " 'browser': 426,\n",
              " 'local': 427,\n",
              " 'last': 428,\n",
              " 'framework': 429,\n",
              " 'thing': 430,\n",
              " 'site': 431,\n",
              " 'db': 432,\n",
              " 'next': 433,\n",
              " 'images': 434,\n",
              " 'tag': 435,\n",
              " 'args': 436,\n",
              " 'menu': 437,\n",
              " 'currently': 438,\n",
              " 'information': 439,\n",
              " 'interface': 440,\n",
              " 'items': 441,\n",
              " 'target': 442,\n",
              " 'based': 443,\n",
              " 'part': 444,\n",
              " 'screen': 445,\n",
              " 'their': 446,\n",
              " 'float': 447,\n",
              " 'field': 448,\n",
              " 'device': 449,\n",
              " 'wrap': 450,\n",
              " 'anything': 451,\n",
              " 'must': 452,\n",
              " 'around': 453,\n",
              " 'note': 454,\n",
              " 'search': 455,\n",
              " 'column': 456,\n",
              " 'added': 457,\n",
              " 'send': 458,\n",
              " 'elements': 459,\n",
              " 'contains': 460,\n",
              " 'package': 461,\n",
              " 'actually': 462,\n",
              " 'far': 463,\n",
              " 'similar': 464,\n",
              " 'println': 465,\n",
              " 'close': 466,\n",
              " 'too': 467,\n",
              " 'extends': 468,\n",
              " 'auto': 469,\n",
              " 'androidruntime': 470,\n",
              " 'usr': 471,\n",
              " 'functions': 472,\n",
              " 'byte': 473,\n",
              " 'status': 474,\n",
              " 'look': 475,\n",
              " 'block': 476,\n",
              " 'compiler': 477,\n",
              " 'j': 478,\n",
              " 'things': 479,\n",
              " 'those': 480,\n",
              " 'handle': 481,\n",
              " 'href': 482,\n",
              " 'integer': 483,\n",
              " 'scope': 484,\n",
              " 'pass': 485,\n",
              " 'none': 486,\n",
              " 'execute': 487,\n",
              " 'non': 488,\n",
              " 'within': 489,\n",
              " 'super': 490,\n",
              " 'password': 491,\n",
              " 'store': 492,\n",
              " 'filter': 493,\n",
              " 'multiple': 494,\n",
              " '16': 495,\n",
              " 'boolean': 496,\n",
              " 'constructor': 497,\n",
              " 'home': 498,\n",
              " 'implement': 499,\n",
              " 'errors': 500,\n",
              " 'frame': 501,\n",
              " 'implementation': 502,\n",
              " 'via': 503,\n",
              " 'remove': 504,\n",
              " 'given': 505,\n",
              " 'bool': 506,\n",
              " 'ajax': 507,\n",
              " 'warning': 508,\n",
              " 'specific': 509,\n",
              " 'img': 510,\n",
              " 'span': 511,\n",
              " 'util': 512,\n",
              " 'properties': 513,\n",
              " 'reason': 514,\n",
              " 'either': 515,\n",
              " 'had': 516,\n",
              " 'plugin': 517,\n",
              " 'lot': 518,\n",
              " 'might': 519,\n",
              " 'configuration': 520,\n",
              " 'control': 521,\n",
              " 'someone': 522,\n",
              " 'ios': 523,\n",
              " 'boost': 524,\n",
              " 'missing': 525,\n",
              " '14': 526,\n",
              " 'convert': 527,\n",
              " 'directory': 528,\n",
              " 'own': 529,\n",
              " 'single': 530,\n",
              " 'documentation': 531,\n",
              " 'again': 532,\n",
              " 'our': 533,\n",
              " 'https': 534,\n",
              " 'container': 535,\n",
              " 'everything': 536,\n",
              " 'tr': 537,\n",
              " 'l': 538,\n",
              " 'security': 539,\n",
              " 'down': 540,\n",
              " '50': 541,\n",
              " 'obj': 542,\n",
              " 'going': 543,\n",
              " 'creating': 544,\n",
              " 'save': 545,\n",
              " 'empty': 546,\n",
              " 'standard': 547,\n",
              " 'difference': 548,\n",
              " 'ok': 549,\n",
              " 'springframework': 550,\n",
              " 'handler': 551,\n",
              " 'available': 552,\n",
              " 'sun': 553,\n",
              " 'echo': 554,\n",
              " 'keep': 555,\n",
              " 'take': 556,\n",
              " '01': 557,\n",
              " 'operator': 558,\n",
              " 'xmlns': 559,\n",
              " 'settings': 560,\n",
              " 'stack': 561,\n",
              " 'parameter': 562,\n",
              " 'native': 563,\n",
              " 'generated': 564,\n",
              " '17': 565,\n",
              " 'break': 566,\n",
              " 'types': 567,\n",
              " 'res': 568,\n",
              " 'bundle': 569,\n",
              " 'once': 570,\n",
              " 'defined': 571,\n",
              " 'questions': 572,\n",
              " 'str': 573,\n",
              " 'install': 574,\n",
              " 'login': 575,\n",
              " 'few': 576,\n",
              " 'failed': 577,\n",
              " 'w': 578,\n",
              " '09': 579,\n",
              " '02': 580,\n",
              " '13': 581,\n",
              " 'copy': 582,\n",
              " 'pattern': 583,\n",
              " 'username': 584,\n",
              " 'protected': 585,\n",
              " 'fill': 586,\n",
              " 'mode': 587,\n",
              " 'attribute': 588,\n",
              " 'tostring': 589,\n",
              " 'delete': 590,\n",
              " 'mysql': 591,\n",
              " 'entity': 592,\n",
              " '23': 593,\n",
              " 'vector': 594,\n",
              " 'expected': 595,\n",
              " 'email': 596,\n",
              " 'setup': 597,\n",
              " 'times': 598,\n",
              " 'figure': 599,\n",
              " 'stream': 600,\n",
              " 'required': 601,\n",
              " 'side': 602,\n",
              " 'widget': 603,\n",
              " 'parse': 604,\n",
              " 'tests': 605,\n",
              " 'struct': 606,\n",
              " '30': 607,\n",
              " 'group': 608,\n",
              " '04': 609,\n",
              " '07': 610,\n",
              " 'writing': 611,\n",
              " 'sql': 612,\n",
              " 'root': 613,\n",
              " 'namespace': 614,\n",
              " 'nothing': 615,\n",
              " 'parameters': 616,\n",
              " 'cpp': 617,\n",
              " 'never': 618,\n",
              " 'gets': 619,\n",
              " 'made': 620,\n",
              " 'give': 621,\n",
              " 'max': 622,\n",
              " 'activitythread': 623,\n",
              " 'appreciated': 624,\n",
              " 'append': 625,\n",
              " '08': 626,\n",
              " 'setting': 627,\n",
              " 'calls': 628,\n",
              " 'level': 629,\n",
              " 'ideas': 630,\n",
              " 'alert': 631,\n",
              " 'folder': 632,\n",
              " 'cout': 633,\n",
              " 'drawable': 634,\n",
              " 'though': 635,\n",
              " 'replace': 636,\n",
              " 'maybe': 637,\n",
              " 'studio': 638,\n",
              " 'font': 639,\n",
              " '03': 640,\n",
              " 'box': 641,\n",
              " 'hibernate': 642,\n",
              " 'tools': 643,\n",
              " 'runtime': 644,\n",
              " 'fix': 645,\n",
              " 'wondering': 646,\n",
              " 'define': 647,\n",
              " 'throw': 648,\n",
              " 'cache': 649,\n",
              " 'adding': 650,\n",
              " 'sample': 651,\n",
              " 'permission': 652,\n",
              " 'calling': 653,\n",
              " 'advance': 654,\n",
              " 'datetime': 655,\n",
              " 'textview': 656,\n",
              " 'range': 657,\n",
              " 'changes': 658,\n",
              " 'center': 659,\n",
              " 'resources': 660,\n",
              " 'cell': 661,\n",
              " 'func': 662,\n",
              " 'clear': 663,\n",
              " 'thought': 664,\n",
              " 'approach': 665,\n",
              " 'sort': 666,\n",
              " 'chrome': 667,\n",
              " 'lines': 668,\n",
              " 'were': 669,\n",
              " 'encoding': 670,\n",
              " 'installed': 671,\n",
              " 'dialog': 672,\n",
              " 'expression': 673,\n",
              " 'allow': 674,\n",
              " 'hello': 675,\n",
              " 'bin': 676,\n",
              " 'br': 677,\n",
              " '06': 678,\n",
              " 'mean': 679,\n",
              " 'invoke': 680,\n",
              " 'io': 681,\n",
              " 'performance': 682,\n",
              " 'full': 683,\n",
              " 'projects': 684,\n",
              " 'yes': 685,\n",
              " 'connect': 686,\n",
              " 'correctly': 687,\n",
              " 'whether': 688,\n",
              " 'maven': 689,\n",
              " 'head': 690,\n",
              " 'needs': 691,\n",
              " 'common': 692,\n",
              " 'video': 693,\n",
              " '19': 694,\n",
              " '25': 695,\n",
              " 'release': 696,\n",
              " 'utf': 697,\n",
              " 'virtual': 698,\n",
              " 'real': 699,\n",
              " 'buffer': 700,\n",
              " 'changed': 701,\n",
              " 'param': 702,\n",
              " 'bytes': 703,\n",
              " 'push': 704,\n",
              " 'resource': 705,\n",
              " 'microsoft': 706,\n",
              " 'move': 707,\n",
              " 'fragment': 708,\n",
              " 'random': 709,\n",
              " '22': 710,\n",
              " 'language': 711,\n",
              " 'sdk': 712,\n",
              " 'child': 713,\n",
              " 'off': 714,\n",
              " 'threads': 715,\n",
              " 'testing': 716,\n",
              " 'django': 717,\n",
              " 'dll': 718,\n",
              " '05': 719,\n",
              " 'variables': 720,\n",
              " 'linux': 721,\n",
              " 'tell': 722,\n",
              " 'token': 723,\n",
              " 'z': 724,\n",
              " 'packages': 725,\n",
              " 'attr': 726,\n",
              " 'foreach': 727,\n",
              " 'stuff': 728,\n",
              " 'facebook': 729,\n",
              " 'val': 730,\n",
              " 'seconds': 731,\n",
              " 'visual': 732,\n",
              " 'product': 733,\n",
              " 'shows': 734,\n",
              " 'kind': 735,\n",
              " 'makes': 736,\n",
              " 'bottom': 737,\n",
              " 'strings': 738,\n",
              " 'collection': 739,\n",
              " 'several': 740,\n",
              " '18': 741,\n",
              " 'description': 742,\n",
              " 'throws': 743,\n",
              " 'basic': 744,\n",
              " 'reading': 745,\n",
              " 'shared': 746,\n",
              " 'linearlayout': 747,\n",
              " 'writeline': 748,\n",
              " 'rather': 749,\n",
              " 'place': 750,\n",
              " 'mvc': 751,\n",
              " 'spring': 752,\n",
              " 'simply': 753,\n",
              " 'callback': 754,\n",
              " 'section': 755,\n",
              " 'behavior': 756,\n",
              " 'fields': 757,\n",
              " 'generate': 758,\n",
              " 'pointer': 759,\n",
              " 'png': 760,\n",
              " 'require': 761,\n",
              " 'k': 762,\n",
              " 'easy': 763,\n",
              " 'quite': 764,\n",
              " 'seen': 765,\n",
              " 'socket': 766,\n",
              " '21': 767,\n",
              " 'events': 768,\n",
              " 'success': 769,\n",
              " 'thank': 770,\n",
              " 'play': 771,\n",
              " 'under': 772,\n",
              " 'javax': 773,\n",
              " 'selected': 774,\n",
              " 'until': 775,\n",
              " '64': 776,\n",
              " 'loaded': 777,\n",
              " 'icon': 778,\n",
              " 'filename': 779,\n",
              " 'gives': 780,\n",
              " 'uri': 781,\n",
              " 'person': 782,\n",
              " 'valid': 783,\n",
              " 'basically': 784,\n",
              " 'libraries': 785,\n",
              " 'related': 786,\n",
              " 'camera': 787,\n",
              " 'rows': 788,\n",
              " 'servlet': 789,\n",
              " '32': 790,\n",
              " 'canvas': 791,\n",
              " 'gradle': 792,\n",
              " 'exactly': 793,\n",
              " 'people': 794,\n",
              " 'itself': 795,\n",
              " 'happens': 796,\n",
              " 'member': 797,\n",
              " 'stop': 798,\n",
              " 'means': 799,\n",
              " 'original': 800,\n",
              " 'website': 801,\n",
              " 'bind': 802,\n",
              " 'domain': 803,\n",
              " 'nil': 804,\n",
              " 'large': 805,\n",
              " 'switch': 806,\n",
              " 'category': 807,\n",
              " 'tab': 808,\n",
              " 'started': 809,\n",
              " 'actual': 810,\n",
              " 'insert': 811,\n",
              " 'bitmap': 812,\n",
              " 'cursor': 813,\n",
              " 'written': 814,\n",
              " 'port': 815,\n",
              " 'problems': 816,\n",
              " 'phone': 817,\n",
              " 'beans': 818,\n",
              " 'ptr': 819,\n",
              " 'min': 820,\n",
              " 'little': 821,\n",
              " 'statement': 822,\n",
              " 'small': 823,\n",
              " 'asp': 824,\n",
              " 'onclick': 825,\n",
              " 'environment': 826,\n",
              " 'yet': 827,\n",
              " 'old': 828,\n",
              " 'achieve': 829,\n",
              " 'arraylist': 830,\n",
              " 'world': 831,\n",
              " 'oncreate': 832,\n",
              " 'margin': 833,\n",
              " 'global': 834,\n",
              " 'host': 835,\n",
              " 'examples': 836,\n",
              " 'built': 837,\n",
              " 'u': 838,\n",
              " 'three': 839,\n",
              " 'arguments': 840,\n",
              " 'apple': 841,\n",
              " 'takes': 842,\n",
              " 'extension': 843,\n",
              " 're': 844,\n",
              " 'says': 845,\n",
              " 'grid': 846,\n",
              " 'submit': 847,\n",
              " 'explain': 848,\n",
              " 'border': 849,\n",
              " 'making': 850,\n",
              " 'numbers': 851,\n",
              " 'solve': 852,\n",
              " 'dependency': 853,\n",
              " 'factory': 854,\n",
              " 'checked': 855,\n",
              " 'except': 856,\n",
              " 'structure': 857,\n",
              " 'math': 858,\n",
              " 'short': 859,\n",
              " 'equals': 860,\n",
              " 'contents': 861,\n",
              " 'appears': 862,\n",
              " '24': 863,\n",
              " 'generic': 864,\n",
              " 'developer': 865,\n",
              " 'modules': 866,\n",
              " 'typename': 867,\n",
              " 'models': 868,\n",
              " 'complete': 869,\n",
              " 'certain': 870,\n",
              " 'avoid': 871,\n",
              " 'come': 872,\n",
              " 'bean': 873,\n",
              " 'gcc': 874,\n",
              " 'whole': 875,\n",
              " 'apply': 876,\n",
              " 'normal': 877,\n",
              " 'apk': 878,\n",
              " 'pretty': 879,\n",
              " 'provide': 880,\n",
              " 'least': 881,\n",
              " 'design': 882,\n",
              " 'per': 883,\n",
              " 'unknown': 884,\n",
              " 'upload': 885,\n",
              " 'ng': 886,\n",
              " 'bug': 887,\n",
              " 'directly': 888,\n",
              " 'points': 889,\n",
              " 'schemas': 890,\n",
              " 'argument': 891,\n",
              " 'queue': 892,\n",
              " 'download': 893,\n",
              " 'suggestions': 894,\n",
              " 'space': 895,\n",
              " 'apps': 896,\n",
              " 'undefined': 897,\n",
              " 'exists': 898,\n",
              " 'answers': 899,\n",
              " 'xcode': 900,\n",
              " 'machine': 901,\n",
              " 'requests': 902,\n",
              " 'step': 903,\n",
              " 'firefox': 904,\n",
              " 'bad': 905,\n",
              " 'course': 906,\n",
              " 'unable': 907,\n",
              " 'total': 908,\n",
              " 'provider': 909,\n",
              " 'listview': 910,\n",
              " 'reflect': 911,\n",
              " 'np': 912,\n",
              " 'regex': 913,\n",
              " 'automatically': 914,\n",
              " 'ie': 915,\n",
              " 'characters': 916,\n",
              " 'particular': 917,\n",
              " 'services': 918,\n",
              " 'unit': 919,\n",
              " 'endl': 920,\n",
              " 'sum': 921,\n",
              " 'enum': 922,\n",
              " 'messages': 923,\n",
              " 'headers': 924,\n",
              " 'versions': 925,\n",
              " 'word': 926,\n",
              " 'component': 927,\n",
              " 'scroll': 928,\n",
              " 'great': 929,\n",
              " 'syntax': 930,\n",
              " 'localhost': 931,\n",
              " 'cases': 932,\n",
              " 'err': 933,\n",
              " 'returned': 934,\n",
              " 'needed': 935,\n",
              " 'unique': 936,\n",
              " 'character': 937,\n",
              " 'runs': 938,\n",
              " 'guess': 939,\n",
              " 'entry': 940,\n",
              " 'ul': 941,\n",
              " 'building': 942,\n",
              " 'updated': 943,\n",
              " 'external': 944,\n",
              " 'loading': 945,\n",
              " 'columns': 946,\n",
              " 'dependencies': 947,\n",
              " 'implemented': 948,\n",
              " 'cast': 949,\n",
              " 'views': 950,\n",
              " 'dictionary': 951,\n",
              " 'issues': 952,\n",
              " 'probably': 953,\n",
              " 'q': 954,\n",
              " 'tool': 955,\n",
              " 'enough': 956,\n",
              " 'extra': 957,\n",
              " 'invalid': 958,\n",
              " 'us': 959,\n",
              " 'savedinstancestate': 960,\n",
              " 'network': 961,\n",
              " \"''\": 962,\n",
              " 'numpy': 963,\n",
              " 'maps': 964,\n",
              " 'split': 965,\n",
              " 'findviewbyid': 966,\n",
              " 'admin': 967,\n",
              " 'visible': 968,\n",
              " 'implements': 969,\n",
              " 'during': 970,\n",
              " 'notification': 971,\n",
              " '2012': 972,\n",
              " 'async': 973,\n",
              " 'platform': 974,\n",
              " 'ex': 975,\n",
              " 'pages': 976,\n",
              " 'sometimes': 977,\n",
              " 'feature': 978,\n",
              " 'pdf': 979,\n",
              " 'execution': 980,\n",
              " 'animation': 981,\n",
              " '200': 982,\n",
              " 'iphone': 983,\n",
              " 'txt': 984,\n",
              " 'fails': 985,\n",
              " 'ref': 986,\n",
              " '31': 987,\n",
              " 'hidden': 988,\n",
              " '1000': 989,\n",
              " 'functionality': 990,\n",
              " 'details': 991,\n",
              " 'github': 992,\n",
              " 'manually': 993,\n",
              " 'shown': 994,\n",
              " 'python2': 995,\n",
              " 'according': 996,\n",
              " 'dir': 997,\n",
              " 'properly': 998,\n",
              " 'follows': 999,\n",
              " 'assembly': 1000,\n",
              " ...}"
            ]
          },
          "metadata": {
            "tags": []
          },
          "execution_count": 37
        }
      ]
    },
    {
      "cell_type": "code",
      "metadata": {
        "colab": {
          "base_uri": "https://localhost:8080/"
        },
        "id": "lC3oew4DAQOc",
        "outputId": "28a9d217-bb86-4e2c-d3ff-633ba297c7f8"
      },
      "source": [
        "#declaring the vocab_size, the number of unique words\n",
        "\n",
        "vocab_size  = len(token.word_index) + 1\n",
        "vocab_size"
      ],
      "execution_count": 38,
      "outputs": [
        {
          "output_type": "execute_result",
          "data": {
            "text/plain": [
              "147322"
            ]
          },
          "metadata": {
            "tags": []
          },
          "execution_count": 38
        }
      ]
    },
    {
      "cell_type": "code",
      "metadata": {
        "id": "WoAE-8nxAYJI"
      },
      "source": [
        "#conversion to numerical formats, here all the assigned numbers sequenced as per the sentence.\n",
        "encoded_text = token.texts_to_sequences(X_train)"
      ],
      "execution_count": 39,
      "outputs": []
    },
    {
      "cell_type": "code",
      "metadata": {
        "colab": {
          "base_uri": "https://localhost:8080/"
        },
        "id": "ZeKCnTwu7fcY",
        "outputId": "1e055339-dc9f-4e44-98b0-9b0ea63c5dcd"
      },
      "source": [
        "# Sequences are nothing but list of list numerical representation of X\r\n",
        "print(encoded_text[0:1])"
      ],
      "execution_count": 40,
      "outputs": [
        {
          "output_type": "stream",
          "text": [
            "[[2, 94, 3, 14, 74, 456, 6, 20, 295, 3602, 77, 295, 28, 921, 9, 788, 921, 9, 79833, 2, 17, 38, 34, 151, 291, 3, 145, 20, 295, 73, 5, 48, 2, 679, 37, 27, 15336, 197, 37, 52, 1872, 45, 84, 37, 347, 53969, 45, 84, 37, 27, 6221, 197, 37, 52, 1872, 45, 84, 37, 347, 53970, 45, 84, 37, 27, 79834, 197, 37, 52, 1872, 45, 84, 37, 347, 921, 45, 84, 8, 691, 3, 24, 3602, 77, 432, 28, 288, 921, 53969, 33, 15336, 136, 1872, 8, 1872, 288, 921, 53970, 33, 6221, 136, 1872, 8, 1872, 43, 25, 2, 829, 8, 6, 2448, 41933]]\n"
          ],
          "name": "stdout"
        }
      ]
    },
    {
      "cell_type": "code",
      "metadata": {
        "colab": {
          "base_uri": "https://localhost:8080/"
        },
        "id": "bvLSURsjJAWf",
        "outputId": "ec0eadd5-8aca-4978-fd65-9daace495400"
      },
      "source": [
        "import nltk\n",
        "nltk.download('punkt')"
      ],
      "execution_count": 41,
      "outputs": [
        {
          "output_type": "stream",
          "text": [
            "[nltk_data] Downloading package punkt to /root/nltk_data...\n",
            "[nltk_data]   Package punkt is already up-to-date!\n"
          ],
          "name": "stdout"
        },
        {
          "output_type": "execute_result",
          "data": {
            "text/plain": [
              "True"
            ]
          },
          "metadata": {
            "tags": []
          },
          "execution_count": 41
        }
      ]
    },
    {
      "cell_type": "code",
      "metadata": {
        "id": "Oya1owmQL_S8"
      },
      "source": [
        "import nltk\n",
        "from nltk.tokenize import word_tokenize"
      ],
      "execution_count": 42,
      "outputs": []
    },
    {
      "cell_type": "code",
      "metadata": {
        "id": "kUYdaiGAAxYA"
      },
      "source": [
        "# here we are trying to find sentence with maximum words\n",
        "sent_lens=[]\n",
        "for sent in X_train:\n",
        "    sent_lens.append(len(word_tokenize(sent)))"
      ],
      "execution_count": 43,
      "outputs": []
    },
    {
      "cell_type": "code",
      "metadata": {
        "colab": {
          "base_uri": "https://localhost:8080/"
        },
        "id": "s0SqtUClLhPl",
        "outputId": "5d97e908-0320-4820-d6f5-74610a033933"
      },
      "source": [
        "max(sent_lens)"
      ],
      "execution_count": 44,
      "outputs": [
        {
          "output_type": "execute_result",
          "data": {
            "text/plain": [
              "10972"
            ]
          },
          "metadata": {
            "tags": []
          },
          "execution_count": 44
        }
      ]
    },
    {
      "cell_type": "code",
      "metadata": {
        "colab": {
          "base_uri": "https://localhost:8080/"
        },
        "id": "f9Iv_MFFNENc",
        "outputId": "b2c51689-9eb4-41b3-fd71-4e2cc99f9fcc"
      },
      "source": [
        "# here 95% of the training example(data) has word count less than 622\n",
        "np.quantile(sent_lens,0.95)"
      ],
      "execution_count": 45,
      "outputs": [
        {
          "output_type": "execute_result",
          "data": {
            "text/plain": [
              "622.0"
            ]
          },
          "metadata": {
            "tags": []
          },
          "execution_count": 45
        }
      ]
    },
    {
      "cell_type": "code",
      "metadata": {
        "id": "0lFY1vhMNHlW"
      },
      "source": [
        "# 'max_length' = 622 means we are considering max 622 words or token only which is nothing but time steps.\n",
        "# padding='post' means that we padding post the sentence(keeping values 0 if the tokens are not there)\n",
        "# sequence are nothing but list of list numerical representation of my X\n",
        "# to the sequence obtained above we pad them and convert every sequence to max_length\n",
        "# default is padding = 'pre', for post padding we can mention padding = 'post', we should consider default padding\n",
        "\n",
        "max_length = 622\n",
        "sequences_matrix_train = pad_sequences(encoded_text, maxlen=max_length)"
      ],
      "execution_count": 46,
      "outputs": []
    },
    {
      "cell_type": "code",
      "metadata": {
        "colab": {
          "base_uri": "https://localhost:8080/"
        },
        "id": "2tHS1d7nNyX_",
        "outputId": "5d60cb5e-33aa-4d0b-8c7c-a4ce3dba4b82"
      },
      "source": [
        "print(sequences_matrix_train)"
      ],
      "execution_count": 47,
      "outputs": [
        {
          "output_type": "stream",
          "text": [
            "[[    0     0     0 ...     6  2448 41933]\n",
            " [    0     0     0 ...   355   162   396]\n",
            " [    0     0     0 ...   297     7  6041]\n",
            " ...\n",
            " [    0     0     0 ...    15    18    15]\n",
            " [    0     0     0 ...  2359     8   162]\n",
            " [    0     0     0 ...    71   453     8]]\n"
          ],
          "name": "stdout"
        }
      ]
    },
    {
      "cell_type": "code",
      "metadata": {
        "colab": {
          "base_uri": "https://localhost:8080/"
        },
        "id": "jwqSw_DC-l8u",
        "outputId": "738499b4-7b14-4b18-c508-2a67d9f25726"
      },
      "source": [
        "sequences_matrix_train.shape"
      ],
      "execution_count": 48,
      "outputs": [
        {
          "output_type": "execute_result",
          "data": {
            "text/plain": [
              "(31885, 622)"
            ]
          },
          "metadata": {
            "tags": []
          },
          "execution_count": 48
        }
      ]
    },
    {
      "cell_type": "code",
      "metadata": {
        "colab": {
          "base_uri": "https://localhost:8080/",
          "height": 251
        },
        "id": "DGbyPCpCTCnv",
        "outputId": "399f6206-5521-4647-dc52-ae90570311c2"
      },
      "source": [
        "pd.DataFrame(sequences_matrix_train).head()"
      ],
      "execution_count": 49,
      "outputs": [
        {
          "output_type": "execute_result",
          "data": {
            "text/html": [
              "<div>\n",
              "<style scoped>\n",
              "    .dataframe tbody tr th:only-of-type {\n",
              "        vertical-align: middle;\n",
              "    }\n",
              "\n",
              "    .dataframe tbody tr th {\n",
              "        vertical-align: top;\n",
              "    }\n",
              "\n",
              "    .dataframe thead th {\n",
              "        text-align: right;\n",
              "    }\n",
              "</style>\n",
              "<table border=\"1\" class=\"dataframe\">\n",
              "  <thead>\n",
              "    <tr style=\"text-align: right;\">\n",
              "      <th></th>\n",
              "      <th>0</th>\n",
              "      <th>1</th>\n",
              "      <th>2</th>\n",
              "      <th>3</th>\n",
              "      <th>4</th>\n",
              "      <th>5</th>\n",
              "      <th>6</th>\n",
              "      <th>7</th>\n",
              "      <th>8</th>\n",
              "      <th>9</th>\n",
              "      <th>10</th>\n",
              "      <th>11</th>\n",
              "      <th>12</th>\n",
              "      <th>13</th>\n",
              "      <th>14</th>\n",
              "      <th>15</th>\n",
              "      <th>16</th>\n",
              "      <th>17</th>\n",
              "      <th>18</th>\n",
              "      <th>19</th>\n",
              "      <th>20</th>\n",
              "      <th>21</th>\n",
              "      <th>22</th>\n",
              "      <th>23</th>\n",
              "      <th>24</th>\n",
              "      <th>25</th>\n",
              "      <th>26</th>\n",
              "      <th>27</th>\n",
              "      <th>28</th>\n",
              "      <th>29</th>\n",
              "      <th>30</th>\n",
              "      <th>31</th>\n",
              "      <th>32</th>\n",
              "      <th>33</th>\n",
              "      <th>34</th>\n",
              "      <th>35</th>\n",
              "      <th>36</th>\n",
              "      <th>37</th>\n",
              "      <th>38</th>\n",
              "      <th>39</th>\n",
              "      <th>...</th>\n",
              "      <th>582</th>\n",
              "      <th>583</th>\n",
              "      <th>584</th>\n",
              "      <th>585</th>\n",
              "      <th>586</th>\n",
              "      <th>587</th>\n",
              "      <th>588</th>\n",
              "      <th>589</th>\n",
              "      <th>590</th>\n",
              "      <th>591</th>\n",
              "      <th>592</th>\n",
              "      <th>593</th>\n",
              "      <th>594</th>\n",
              "      <th>595</th>\n",
              "      <th>596</th>\n",
              "      <th>597</th>\n",
              "      <th>598</th>\n",
              "      <th>599</th>\n",
              "      <th>600</th>\n",
              "      <th>601</th>\n",
              "      <th>602</th>\n",
              "      <th>603</th>\n",
              "      <th>604</th>\n",
              "      <th>605</th>\n",
              "      <th>606</th>\n",
              "      <th>607</th>\n",
              "      <th>608</th>\n",
              "      <th>609</th>\n",
              "      <th>610</th>\n",
              "      <th>611</th>\n",
              "      <th>612</th>\n",
              "      <th>613</th>\n",
              "      <th>614</th>\n",
              "      <th>615</th>\n",
              "      <th>616</th>\n",
              "      <th>617</th>\n",
              "      <th>618</th>\n",
              "      <th>619</th>\n",
              "      <th>620</th>\n",
              "      <th>621</th>\n",
              "    </tr>\n",
              "  </thead>\n",
              "  <tbody>\n",
              "    <tr>\n",
              "      <th>0</th>\n",
              "      <td>0</td>\n",
              "      <td>0</td>\n",
              "      <td>0</td>\n",
              "      <td>0</td>\n",
              "      <td>0</td>\n",
              "      <td>0</td>\n",
              "      <td>0</td>\n",
              "      <td>0</td>\n",
              "      <td>0</td>\n",
              "      <td>0</td>\n",
              "      <td>0</td>\n",
              "      <td>0</td>\n",
              "      <td>0</td>\n",
              "      <td>0</td>\n",
              "      <td>0</td>\n",
              "      <td>0</td>\n",
              "      <td>0</td>\n",
              "      <td>0</td>\n",
              "      <td>0</td>\n",
              "      <td>0</td>\n",
              "      <td>0</td>\n",
              "      <td>0</td>\n",
              "      <td>0</td>\n",
              "      <td>0</td>\n",
              "      <td>0</td>\n",
              "      <td>0</td>\n",
              "      <td>0</td>\n",
              "      <td>0</td>\n",
              "      <td>0</td>\n",
              "      <td>0</td>\n",
              "      <td>0</td>\n",
              "      <td>0</td>\n",
              "      <td>0</td>\n",
              "      <td>0</td>\n",
              "      <td>0</td>\n",
              "      <td>0</td>\n",
              "      <td>0</td>\n",
              "      <td>0</td>\n",
              "      <td>0</td>\n",
              "      <td>0</td>\n",
              "      <td>...</td>\n",
              "      <td>84</td>\n",
              "      <td>37</td>\n",
              "      <td>347</td>\n",
              "      <td>921</td>\n",
              "      <td>45</td>\n",
              "      <td>84</td>\n",
              "      <td>8</td>\n",
              "      <td>691</td>\n",
              "      <td>3</td>\n",
              "      <td>24</td>\n",
              "      <td>3602</td>\n",
              "      <td>77</td>\n",
              "      <td>432</td>\n",
              "      <td>28</td>\n",
              "      <td>288</td>\n",
              "      <td>921</td>\n",
              "      <td>53969</td>\n",
              "      <td>33</td>\n",
              "      <td>15336</td>\n",
              "      <td>136</td>\n",
              "      <td>1872</td>\n",
              "      <td>8</td>\n",
              "      <td>1872</td>\n",
              "      <td>288</td>\n",
              "      <td>921</td>\n",
              "      <td>53970</td>\n",
              "      <td>33</td>\n",
              "      <td>6221</td>\n",
              "      <td>136</td>\n",
              "      <td>1872</td>\n",
              "      <td>8</td>\n",
              "      <td>1872</td>\n",
              "      <td>43</td>\n",
              "      <td>25</td>\n",
              "      <td>2</td>\n",
              "      <td>829</td>\n",
              "      <td>8</td>\n",
              "      <td>6</td>\n",
              "      <td>2448</td>\n",
              "      <td>41933</td>\n",
              "    </tr>\n",
              "    <tr>\n",
              "      <th>1</th>\n",
              "      <td>0</td>\n",
              "      <td>0</td>\n",
              "      <td>0</td>\n",
              "      <td>0</td>\n",
              "      <td>0</td>\n",
              "      <td>0</td>\n",
              "      <td>0</td>\n",
              "      <td>0</td>\n",
              "      <td>0</td>\n",
              "      <td>0</td>\n",
              "      <td>0</td>\n",
              "      <td>0</td>\n",
              "      <td>0</td>\n",
              "      <td>0</td>\n",
              "      <td>0</td>\n",
              "      <td>0</td>\n",
              "      <td>0</td>\n",
              "      <td>0</td>\n",
              "      <td>0</td>\n",
              "      <td>0</td>\n",
              "      <td>0</td>\n",
              "      <td>0</td>\n",
              "      <td>0</td>\n",
              "      <td>0</td>\n",
              "      <td>0</td>\n",
              "      <td>0</td>\n",
              "      <td>0</td>\n",
              "      <td>0</td>\n",
              "      <td>0</td>\n",
              "      <td>0</td>\n",
              "      <td>0</td>\n",
              "      <td>0</td>\n",
              "      <td>0</td>\n",
              "      <td>0</td>\n",
              "      <td>0</td>\n",
              "      <td>0</td>\n",
              "      <td>0</td>\n",
              "      <td>0</td>\n",
              "      <td>0</td>\n",
              "      <td>0</td>\n",
              "      <td>...</td>\n",
              "      <td>101</td>\n",
              "      <td>101</td>\n",
              "      <td>7</td>\n",
              "      <td>977</td>\n",
              "      <td>101</td>\n",
              "      <td>158</td>\n",
              "      <td>67</td>\n",
              "      <td>519</td>\n",
              "      <td>14</td>\n",
              "      <td>3</td>\n",
              "      <td>2438</td>\n",
              "      <td>1</td>\n",
              "      <td>150</td>\n",
              "      <td>4</td>\n",
              "      <td>576</td>\n",
              "      <td>598</td>\n",
              "      <td>3</td>\n",
              "      <td>79836</td>\n",
              "      <td>1</td>\n",
              "      <td>325</td>\n",
              "      <td>2</td>\n",
              "      <td>17</td>\n",
              "      <td>11</td>\n",
              "      <td>324</td>\n",
              "      <td>19</td>\n",
              "      <td>10</td>\n",
              "      <td>180</td>\n",
              "      <td>12</td>\n",
              "      <td>1</td>\n",
              "      <td>301</td>\n",
              "      <td>643</td>\n",
              "      <td>230</td>\n",
              "      <td>94</td>\n",
              "      <td>3</td>\n",
              "      <td>24</td>\n",
              "      <td>303</td>\n",
              "      <td>28</td>\n",
              "      <td>355</td>\n",
              "      <td>162</td>\n",
              "      <td>396</td>\n",
              "    </tr>\n",
              "    <tr>\n",
              "      <th>2</th>\n",
              "      <td>0</td>\n",
              "      <td>0</td>\n",
              "      <td>0</td>\n",
              "      <td>0</td>\n",
              "      <td>0</td>\n",
              "      <td>0</td>\n",
              "      <td>0</td>\n",
              "      <td>0</td>\n",
              "      <td>0</td>\n",
              "      <td>0</td>\n",
              "      <td>0</td>\n",
              "      <td>0</td>\n",
              "      <td>0</td>\n",
              "      <td>0</td>\n",
              "      <td>0</td>\n",
              "      <td>0</td>\n",
              "      <td>0</td>\n",
              "      <td>0</td>\n",
              "      <td>0</td>\n",
              "      <td>0</td>\n",
              "      <td>0</td>\n",
              "      <td>0</td>\n",
              "      <td>0</td>\n",
              "      <td>0</td>\n",
              "      <td>0</td>\n",
              "      <td>0</td>\n",
              "      <td>0</td>\n",
              "      <td>0</td>\n",
              "      <td>0</td>\n",
              "      <td>0</td>\n",
              "      <td>0</td>\n",
              "      <td>0</td>\n",
              "      <td>0</td>\n",
              "      <td>0</td>\n",
              "      <td>0</td>\n",
              "      <td>0</td>\n",
              "      <td>0</td>\n",
              "      <td>0</td>\n",
              "      <td>0</td>\n",
              "      <td>0</td>\n",
              "      <td>...</td>\n",
              "      <td>9</td>\n",
              "      <td>5687</td>\n",
              "      <td>314</td>\n",
              "      <td>190</td>\n",
              "      <td>3</td>\n",
              "      <td>1996</td>\n",
              "      <td>32</td>\n",
              "      <td>1019</td>\n",
              "      <td>1418</td>\n",
              "      <td>131</td>\n",
              "      <td>225</td>\n",
              "      <td>5</td>\n",
              "      <td>8</td>\n",
              "      <td>180</td>\n",
              "      <td>2</td>\n",
              "      <td>17</td>\n",
              "      <td>438</td>\n",
              "      <td>38</td>\n",
              "      <td>4412</td>\n",
              "      <td>88</td>\n",
              "      <td>333</td>\n",
              "      <td>4412</td>\n",
              "      <td>209</td>\n",
              "      <td>175</td>\n",
              "      <td>10</td>\n",
              "      <td>5</td>\n",
              "      <td>763</td>\n",
              "      <td>3</td>\n",
              "      <td>499</td>\n",
              "      <td>22</td>\n",
              "      <td>1019</td>\n",
              "      <td>131</td>\n",
              "      <td>19</td>\n",
              "      <td>41</td>\n",
              "      <td>1482</td>\n",
              "      <td>5687</td>\n",
              "      <td>1067</td>\n",
              "      <td>297</td>\n",
              "      <td>7</td>\n",
              "      <td>6041</td>\n",
              "    </tr>\n",
              "    <tr>\n",
              "      <th>3</th>\n",
              "      <td>0</td>\n",
              "      <td>0</td>\n",
              "      <td>0</td>\n",
              "      <td>0</td>\n",
              "      <td>0</td>\n",
              "      <td>0</td>\n",
              "      <td>0</td>\n",
              "      <td>0</td>\n",
              "      <td>0</td>\n",
              "      <td>0</td>\n",
              "      <td>0</td>\n",
              "      <td>0</td>\n",
              "      <td>0</td>\n",
              "      <td>0</td>\n",
              "      <td>0</td>\n",
              "      <td>0</td>\n",
              "      <td>0</td>\n",
              "      <td>0</td>\n",
              "      <td>0</td>\n",
              "      <td>0</td>\n",
              "      <td>0</td>\n",
              "      <td>0</td>\n",
              "      <td>0</td>\n",
              "      <td>0</td>\n",
              "      <td>0</td>\n",
              "      <td>0</td>\n",
              "      <td>0</td>\n",
              "      <td>0</td>\n",
              "      <td>0</td>\n",
              "      <td>0</td>\n",
              "      <td>0</td>\n",
              "      <td>0</td>\n",
              "      <td>0</td>\n",
              "      <td>0</td>\n",
              "      <td>0</td>\n",
              "      <td>0</td>\n",
              "      <td>0</td>\n",
              "      <td>0</td>\n",
              "      <td>0</td>\n",
              "      <td>0</td>\n",
              "      <td>...</td>\n",
              "      <td>1075</td>\n",
              "      <td>7</td>\n",
              "      <td>65</td>\n",
              "      <td>3</td>\n",
              "      <td>84</td>\n",
              "      <td>1</td>\n",
              "      <td>6820</td>\n",
              "      <td>9</td>\n",
              "      <td>225</td>\n",
              "      <td>3</td>\n",
              "      <td>1</td>\n",
              "      <td>151</td>\n",
              "      <td>456</td>\n",
              "      <td>9</td>\n",
              "      <td>53973</td>\n",
              "      <td>7</td>\n",
              "      <td>1</td>\n",
              "      <td>149</td>\n",
              "      <td>9</td>\n",
              "      <td>946</td>\n",
              "      <td>3</td>\n",
              "      <td>1</td>\n",
              "      <td>367</td>\n",
              "      <td>28</td>\n",
              "      <td>2</td>\n",
              "      <td>17</td>\n",
              "      <td>29</td>\n",
              "      <td>3</td>\n",
              "      <td>200</td>\n",
              "      <td>372</td>\n",
              "      <td>1467</td>\n",
              "      <td>1828</td>\n",
              "      <td>1</td>\n",
              "      <td>1418</td>\n",
              "      <td>71</td>\n",
              "      <td>25</td>\n",
              "      <td>63</td>\n",
              "      <td>10136</td>\n",
              "      <td>1384</td>\n",
              "      <td>162</td>\n",
              "    </tr>\n",
              "    <tr>\n",
              "      <th>4</th>\n",
              "      <td>0</td>\n",
              "      <td>0</td>\n",
              "      <td>0</td>\n",
              "      <td>0</td>\n",
              "      <td>0</td>\n",
              "      <td>0</td>\n",
              "      <td>0</td>\n",
              "      <td>0</td>\n",
              "      <td>0</td>\n",
              "      <td>0</td>\n",
              "      <td>0</td>\n",
              "      <td>0</td>\n",
              "      <td>0</td>\n",
              "      <td>0</td>\n",
              "      <td>0</td>\n",
              "      <td>0</td>\n",
              "      <td>0</td>\n",
              "      <td>0</td>\n",
              "      <td>0</td>\n",
              "      <td>0</td>\n",
              "      <td>0</td>\n",
              "      <td>0</td>\n",
              "      <td>0</td>\n",
              "      <td>0</td>\n",
              "      <td>0</td>\n",
              "      <td>0</td>\n",
              "      <td>0</td>\n",
              "      <td>0</td>\n",
              "      <td>0</td>\n",
              "      <td>0</td>\n",
              "      <td>0</td>\n",
              "      <td>0</td>\n",
              "      <td>0</td>\n",
              "      <td>0</td>\n",
              "      <td>0</td>\n",
              "      <td>0</td>\n",
              "      <td>0</td>\n",
              "      <td>0</td>\n",
              "      <td>0</td>\n",
              "      <td>0</td>\n",
              "      <td>...</td>\n",
              "      <td>8</td>\n",
              "      <td>5</td>\n",
              "      <td>1</td>\n",
              "      <td>221</td>\n",
              "      <td>645</td>\n",
              "      <td>19</td>\n",
              "      <td>3</td>\n",
              "      <td>86</td>\n",
              "      <td>8</td>\n",
              "      <td>53976</td>\n",
              "      <td>9</td>\n",
              "      <td>79837</td>\n",
              "      <td>572</td>\n",
              "      <td>48</td>\n",
              "      <td>425</td>\n",
              "      <td>26</td>\n",
              "      <td>2</td>\n",
              "      <td>14</td>\n",
              "      <td>3</td>\n",
              "      <td>829</td>\n",
              "      <td>48</td>\n",
              "      <td>2</td>\n",
              "      <td>65</td>\n",
              "      <td>41</td>\n",
              "      <td>1</td>\n",
              "      <td>56</td>\n",
              "      <td>9</td>\n",
              "      <td>3458</td>\n",
              "      <td>191</td>\n",
              "      <td>73</td>\n",
              "      <td>156</td>\n",
              "      <td>61</td>\n",
              "      <td>9348</td>\n",
              "      <td>1</td>\n",
              "      <td>27</td>\n",
              "      <td>28</td>\n",
              "      <td>1147</td>\n",
              "      <td>1138</td>\n",
              "      <td>1</td>\n",
              "      <td>325</td>\n",
              "    </tr>\n",
              "  </tbody>\n",
              "</table>\n",
              "<p>5 rows × 622 columns</p>\n",
              "</div>"
            ],
            "text/plain": [
              "   0    1    2    3    4    5    ...   616   617   618    619   620    621\n",
              "0    0    0    0    0    0    0  ...     2   829     8      6  2448  41933\n",
              "1    0    0    0    0    0    0  ...    24   303    28    355   162    396\n",
              "2    0    0    0    0    0    0  ...  1482  5687  1067    297     7   6041\n",
              "3    0    0    0    0    0    0  ...    71    25    63  10136  1384    162\n",
              "4    0    0    0    0    0    0  ...    27    28  1147   1138     1    325\n",
              "\n",
              "[5 rows x 622 columns]"
            ]
          },
          "metadata": {
            "tags": []
          },
          "execution_count": 49
        }
      ]
    },
    {
      "cell_type": "markdown",
      "metadata": {
        "id": "-m3UIxgYiV3C"
      },
      "source": [
        "Model building"
      ]
    },
    {
      "cell_type": "code",
      "metadata": {
        "id": "taPYOfvKigX_"
      },
      "source": [
        "def RNN():\n",
        "    inputs = Input(name='inputs',shape=[max_length])\n",
        "    layer = Embedding(input_dim= vocab_size+1,output_dim= 300,input_length=max_length,mask_zero=True)(inputs)\n",
        "    layer = LSTM(64)(layer)  ## (num_of_obs, number of timestep,feature_dimensions)\n",
        "    layer = Dense(256,name='FC1')(layer)\n",
        "    layer = Activation('relu')(layer)\n",
        "    layer = Dropout(0.5)(layer)\n",
        "    layer = Dense(22,name='out_layer')(layer)\n",
        "    layer = Activation('sigmoid')(layer)\n",
        "    model = Model(inputs=inputs,outputs=layer)\n",
        "    return model"
      ],
      "execution_count": 50,
      "outputs": []
    },
    {
      "cell_type": "code",
      "metadata": {
        "colab": {
          "base_uri": "https://localhost:8080/"
        },
        "id": "ntvWLnB0d9Kq",
        "outputId": "635be1c8-508d-4c36-a9aa-6565146eb2bb"
      },
      "source": [
        "model = RNN()\r\n",
        "model.summary()\r\n",
        "model.compile(loss='categorical_crossentropy',optimizer='adam',\r\n",
        "              metrics=['accuracy'])"
      ],
      "execution_count": 51,
      "outputs": [
        {
          "output_type": "stream",
          "text": [
            "Model: \"model\"\n",
            "_________________________________________________________________\n",
            "Layer (type)                 Output Shape              Param #   \n",
            "=================================================================\n",
            "inputs (InputLayer)          [(None, 622)]             0         \n",
            "_________________________________________________________________\n",
            "embedding (Embedding)        (None, 622, 300)          44196900  \n",
            "_________________________________________________________________\n",
            "lstm (LSTM)                  (None, 64)                93440     \n",
            "_________________________________________________________________\n",
            "FC1 (Dense)                  (None, 256)               16640     \n",
            "_________________________________________________________________\n",
            "activation (Activation)      (None, 256)               0         \n",
            "_________________________________________________________________\n",
            "dropout (Dropout)            (None, 256)               0         \n",
            "_________________________________________________________________\n",
            "out_layer (Dense)            (None, 22)                5654      \n",
            "_________________________________________________________________\n",
            "activation_1 (Activation)    (None, 22)                0         \n",
            "=================================================================\n",
            "Total params: 44,312,634\n",
            "Trainable params: 44,312,634\n",
            "Non-trainable params: 0\n",
            "_________________________________________________________________\n"
          ],
          "name": "stdout"
        }
      ]
    },
    {
      "cell_type": "code",
      "metadata": {
        "id": "WuuQw248stCD"
      },
      "source": [
        "encoded_text_test = token.texts_to_sequences(X_test)\r\n",
        "sequences_matrix_test = pad_sequences(encoded_text_test, maxlen=max_length)"
      ],
      "execution_count": 52,
      "outputs": []
    },
    {
      "cell_type": "code",
      "metadata": {
        "colab": {
          "base_uri": "https://localhost:8080/"
        },
        "id": "CeCgPFC3ss1S",
        "outputId": "149e9498-e022-4b1c-fea0-fbb473c42975"
      },
      "source": [
        "model.fit(sequences_matrix_train,Y_train,epochs=10,\r\n",
        "          validation_data=(sequences_matrix_test,Y_test))"
      ],
      "execution_count": null,
      "outputs": [
        {
          "output_type": "stream",
          "text": [
            "Epoch 1/10\n",
            "567/997 [================>.............] - ETA: 11:47 - loss: 7436.2158 - accuracy: 0.0705"
          ],
          "name": "stdout"
        }
      ]
    },
    {
      "cell_type": "code",
      "metadata": {
        "id": "szfH6VkftY_r"
      },
      "source": [
        ""
      ],
      "execution_count": 53,
      "outputs": []
    }
  ]
}